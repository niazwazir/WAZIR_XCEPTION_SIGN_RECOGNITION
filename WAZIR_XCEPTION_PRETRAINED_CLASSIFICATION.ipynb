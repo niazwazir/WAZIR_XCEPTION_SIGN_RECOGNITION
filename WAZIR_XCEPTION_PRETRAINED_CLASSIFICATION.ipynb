{
  "nbformat": 4,
  "nbformat_minor": 0,
  "metadata": {
    "colab": {
      "name": "pre-trained.ipynb",
      "provenance": [],
      "collapsed_sections": []
    },
    "kernelspec": {
      "name": "python3",
      "display_name": "Python 3"
    },
    "accelerator": "GPU"
  },
  "cells": [
    {
      "cell_type": "code",
      "metadata": {
        "id": "GH3N2MZcBU3s"
      },
      "source": [
        "from google.colab import drive\n",
        "drive.mount('/content/gdrive')"
      ],
      "execution_count": null,
      "outputs": []
    },
    {
      "cell_type": "code",
      "metadata": {
        "id": "DjrfgCe4k9he",
        "outputId": "761f7eda-191c-4ff9-c034-d18a5e30fa71",
        "colab": {
          "resources": {
            "http://localhost:8080/nbextensions/google.colab/files.js": {
              "data": "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",
              "ok": true,
              "headers": [
                [
                  "content-type",
                  "application/javascript"
                ]
              ],
              "status": 200,
              "status_text": ""
            }
          },
          "base_uri": "https://localhost:8080/",
          "height": 73
        }
      },
      "source": [
        "from google.colab import files\r\n",
        "uploaded = files.upload()"
      ],
      "execution_count": 5,
      "outputs": [
        {
          "output_type": "display_data",
          "data": {
            "text/html": [
              "\n",
              "     <input type=\"file\" id=\"files-8cfa1c78-2a77-4ba8-a784-971d8200500a\" name=\"files[]\" multiple disabled\n",
              "        style=\"border:none\" />\n",
              "     <output id=\"result-8cfa1c78-2a77-4ba8-a784-971d8200500a\">\n",
              "      Upload widget is only available when the cell has been executed in the\n",
              "      current browser session. Please rerun this cell to enable.\n",
              "      </output>\n",
              "      <script src=\"/nbextensions/google.colab/files.js\"></script> "
            ],
            "text/plain": [
              "<IPython.core.display.HTML object>"
            ]
          },
          "metadata": {
            "tags": []
          }
        },
        {
          "output_type": "stream",
          "text": [
            "Saving Training.zip to Training.zip\n"
          ],
          "name": "stdout"
        }
      ]
    },
    {
      "cell_type": "code",
      "metadata": {
        "id": "U6a7ME-EmyiV",
        "outputId": "90a53904-8468-45a1-dd31-6df044160147",
        "colab": {
          "base_uri": "https://localhost:8080/"
        }
      },
      "source": [
        "!ls"
      ],
      "execution_count": 7,
      "outputs": [
        {
          "output_type": "stream",
          "text": [
            "1JYWEFYFJCSRsVPmBfkauPQ  sample_data  Training.zip\n"
          ],
          "name": "stdout"
        }
      ]
    },
    {
      "cell_type": "code",
      "metadata": {
        "id": "Gk6uEzJPBa5_",
        "colab": {
          "base_uri": "https://localhost:8080/"
        },
        "outputId": "ae2c561a-2894-4f25-eadf-f9d7881f1300"
      },
      "source": [
        "!unzip Training.zip"
      ],
      "execution_count": 10,
      "outputs": [
        {
          "output_type": "stream",
          "text": [
            "Archive:  Training.zip\n",
            "   creating: Training/00000/\n",
            "  inflating: Training/00000/01153_00000.ppm  \n",
            "  inflating: Training/00000/01153_00001.ppm  \n",
            "  inflating: Training/00000/01153_00002.ppm  \n",
            "  inflating: Training/00000/01160_00000.ppm  \n",
            "  inflating: Training/00000/01160_00001.ppm  \n",
            "  inflating: Training/00000/01160_00002.ppm  \n",
            "  inflating: Training/00000/01797_00000.ppm  \n",
            "  inflating: Training/00000/01797_00001.ppm  \n",
            "  inflating: Training/00000/01797_00002.ppm  \n",
            "  inflating: Training/00000/01798_00000.ppm  \n",
            "  inflating: Training/00000/01798_00001.ppm  \n",
            "  inflating: Training/00000/01798_00002.ppm  \n",
            "  inflating: Training/00000/01799_00000.ppm  \n",
            "  inflating: Training/00000/01799_00001.ppm  \n",
            "  inflating: Training/00000/01799_00002.ppm  \n",
            "  inflating: Training/00000/GT-00000.csv  \n",
            "   creating: Training/00001/\n",
            "  inflating: Training/00001/00025_00000.ppm  \n",
            "  inflating: Training/00001/00025_00001.ppm  \n",
            "  inflating: Training/00001/00025_00002.ppm  \n",
            "  inflating: Training/00001/00029_00000.ppm  \n",
            "  inflating: Training/00001/00029_00001.ppm  \n",
            "  inflating: Training/00001/00029_00002.ppm  \n",
            "  inflating: Training/00001/00079_00000.ppm  \n",
            "  inflating: Training/00001/00079_00001.ppm  \n",
            "  inflating: Training/00001/00079_00002.ppm  \n",
            "  inflating: Training/00001/00136_00000.ppm  \n",
            "  inflating: Training/00001/00136_00001.ppm  \n",
            "  inflating: Training/00001/00136_00002.ppm  \n",
            "  inflating: Training/00001/00143_00000.ppm  \n",
            "  inflating: Training/00001/00143_00001.ppm  \n",
            "  inflating: Training/00001/00143_00002.ppm  \n",
            "  inflating: Training/00001/00455_00000.ppm  \n",
            "  inflating: Training/00001/00455_00001.ppm  \n",
            "  inflating: Training/00001/00455_00002.ppm  \n",
            "  inflating: Training/00001/00468_00000.ppm  \n",
            "  inflating: Training/00001/00468_00001.ppm  \n",
            "  inflating: Training/00001/00468_00002.ppm  \n",
            "  inflating: Training/00001/00475_00000.ppm  \n",
            "  inflating: Training/00001/00475_00001.ppm  \n",
            "  inflating: Training/00001/00475_00002.ppm  \n",
            "  inflating: Training/00001/00801_00000.ppm  \n",
            "  inflating: Training/00001/00801_00001.ppm  \n",
            "  inflating: Training/00001/00801_00002.ppm  \n",
            "  inflating: Training/00001/00806_00000.ppm  \n",
            "  inflating: Training/00001/00806_00001.ppm  \n",
            "  inflating: Training/00001/00806_00002.ppm  \n",
            "  inflating: Training/00001/00874_00000.ppm  \n",
            "  inflating: Training/00001/00874_00001.ppm  \n",
            "  inflating: Training/00001/00874_00002.ppm  \n",
            "  inflating: Training/00001/00876_00000.ppm  \n",
            "  inflating: Training/00001/00876_00001.ppm  \n",
            "  inflating: Training/00001/00876_00002.ppm  \n",
            "  inflating: Training/00001/00877_00000.ppm  \n",
            "  inflating: Training/00001/00877_00001.ppm  \n",
            "  inflating: Training/00001/00877_00002.ppm  \n",
            "  inflating: Training/00001/00881_00000.ppm  \n",
            "  inflating: Training/00001/00881_00001.ppm  \n",
            "  inflating: Training/00001/00881_00002.ppm  \n",
            "  inflating: Training/00001/00897_00000.ppm  \n",
            "  inflating: Training/00001/00897_00001.ppm  \n",
            "  inflating: Training/00001/00897_00002.ppm  \n",
            "  inflating: Training/00001/00900_00000.ppm  \n",
            "  inflating: Training/00001/00900_00001.ppm  \n",
            "  inflating: Training/00001/00900_00002.ppm  \n",
            "  inflating: Training/00001/00920_00000.ppm  \n",
            "  inflating: Training/00001/00920_00001.ppm  \n",
            "  inflating: Training/00001/00920_00002.ppm  \n",
            "  inflating: Training/00001/00921_00000.ppm  \n",
            "  inflating: Training/00001/00921_00001.ppm  \n",
            "  inflating: Training/00001/00933_00000.ppm  \n",
            "  inflating: Training/00001/00933_00001.ppm  \n",
            "  inflating: Training/00001/00933_00002.ppm  \n",
            "  inflating: Training/00001/00941_00000.ppm  \n",
            "  inflating: Training/00001/00941_00001.ppm  \n",
            "  inflating: Training/00001/00941_00002.ppm  \n",
            "  inflating: Training/00001/00947_00000.ppm  \n",
            "  inflating: Training/00001/00947_00001.ppm  \n",
            "  inflating: Training/00001/00947_00002.ppm  \n",
            "  inflating: Training/00001/00965_00000.ppm  \n",
            "  inflating: Training/00001/00965_00001.ppm  \n",
            "  inflating: Training/00001/00965_00002.ppm  \n",
            "  inflating: Training/00001/01028_00000.ppm  \n",
            "  inflating: Training/00001/01028_00001.ppm  \n",
            "  inflating: Training/00001/01028_00002.ppm  \n",
            "  inflating: Training/00001/01103_00000.ppm  \n",
            "  inflating: Training/00001/01103_00001.ppm  \n",
            "  inflating: Training/00001/01103_00002.ppm  \n",
            "  inflating: Training/00001/01114_00000.ppm  \n",
            "  inflating: Training/00001/01114_00001.ppm  \n",
            "  inflating: Training/00001/01114_00002.ppm  \n",
            "  inflating: Training/00001/01278_00000.ppm  \n",
            "  inflating: Training/00001/01278_00001.ppm  \n",
            "  inflating: Training/00001/01278_00002.ppm  \n",
            "  inflating: Training/00001/01556_00000.ppm  \n",
            "  inflating: Training/00001/01556_00001.ppm  \n",
            "  inflating: Training/00001/01556_00002.ppm  \n",
            "  inflating: Training/00001/01584_00000.ppm  \n",
            "  inflating: Training/00001/01584_00001.ppm  \n",
            "  inflating: Training/00001/01584_00002.ppm  \n",
            "  inflating: Training/00001/01585_00000.ppm  \n",
            "  inflating: Training/00001/01585_00001.ppm  \n",
            "  inflating: Training/00001/01585_00002.ppm  \n",
            "  inflating: Training/00001/01590_00000.ppm  \n",
            "  inflating: Training/00001/01590_00001.ppm  \n",
            "  inflating: Training/00001/01590_00002.ppm  \n",
            "  inflating: Training/00001/01651_00000.ppm  \n",
            "  inflating: Training/00001/01651_00001.ppm  \n",
            "  inflating: Training/00001/01651_00002.ppm  \n",
            "  inflating: Training/00001/01662_00000.ppm  \n",
            "  inflating: Training/00001/01662_00001.ppm  \n",
            "  inflating: Training/00001/01662_00002.ppm  \n",
            "  inflating: Training/00001/01681_00000.ppm  \n",
            "  inflating: Training/00001/01681_00001.ppm  \n",
            "  inflating: Training/00001/01681_00002.ppm  \n",
            "  inflating: Training/00001/01699_00000.ppm  \n",
            "  inflating: Training/00001/01699_00001.ppm  \n",
            "  inflating: Training/00001/01699_00002.ppm  \n",
            "  inflating: Training/00001/01850_00000.ppm  \n",
            "  inflating: Training/00001/01850_00001.ppm  \n",
            "  inflating: Training/00001/01850_00002.ppm  \n",
            "  inflating: Training/00001/01854_00000.ppm  \n",
            "  inflating: Training/00001/01854_00001.ppm  \n",
            "  inflating: Training/00001/01854_00002.ppm  \n",
            "  inflating: Training/00001/01971_00000.ppm  \n",
            "  inflating: Training/00001/01971_00001.ppm  \n",
            "  inflating: Training/00001/01971_00002.ppm  \n",
            "  inflating: Training/00001/GT-00001.csv  \n",
            "   creating: Training/00002/\n",
            "  inflating: Training/00002/00270_00000.ppm  \n",
            "  inflating: Training/00002/00270_00001.ppm  \n",
            "  inflating: Training/00002/00270_00002.ppm  \n",
            "  inflating: Training/00002/01320_00000.ppm  \n",
            "  inflating: Training/00002/01503_00000.ppm  \n",
            "  inflating: Training/00002/01503_00001.ppm  \n",
            "  inflating: Training/00002/01503_00002.ppm  \n",
            "  inflating: Training/00002/01515_00000.ppm  \n",
            "  inflating: Training/00002/01515_00001.ppm  \n",
            "  inflating: Training/00002/01515_00002.ppm  \n",
            "  inflating: Training/00002/01722_00000.ppm  \n",
            "  inflating: Training/00002/01722_00001.ppm  \n",
            "  inflating: Training/00002/01722_00002.ppm  \n",
            "  inflating: Training/00002/GT-00002.csv  \n",
            "   creating: Training/00003/\n",
            "  inflating: Training/00003/00207_00000.ppm  \n",
            "  inflating: Training/00003/00207_00001.ppm  \n",
            "  inflating: Training/00003/00207_00002.ppm  \n",
            "  inflating: Training/00003/00211_00000.ppm  \n",
            "  inflating: Training/00003/00211_00001.ppm  \n",
            "  inflating: Training/00003/00211_00002.ppm  \n",
            "  inflating: Training/00003/00259_00000.ppm  \n",
            "  inflating: Training/00003/00259_00001.ppm  \n",
            "  inflating: Training/00003/00259_00002.ppm  \n",
            "  inflating: Training/00003/00391_00000.ppm  \n",
            "  inflating: Training/00003/00391_00001.ppm  \n",
            "  inflating: Training/00003/00391_00002.ppm  \n",
            "  inflating: Training/00003/01291_00000.ppm  \n",
            "  inflating: Training/00003/01291_00001.ppm  \n",
            "  inflating: Training/00003/01291_00002.ppm  \n",
            "  inflating: Training/00003/GT-00003.csv  \n",
            "   creating: Training/00004/\n",
            "  inflating: Training/00004/00145_00000.ppm  \n",
            "  inflating: Training/00004/00145_00001.ppm  \n",
            "  inflating: Training/00004/00145_00002.ppm  \n",
            "  inflating: Training/00004/00214_00000.ppm  \n",
            "  inflating: Training/00004/00214_00001.ppm  \n",
            "  inflating: Training/00004/00214_00002.ppm  \n",
            "  inflating: Training/00004/00282_00000.ppm  \n",
            "  inflating: Training/00004/00282_00001.ppm  \n",
            "  inflating: Training/00004/00282_00002.ppm  \n",
            "  inflating: Training/00004/00623_00000.ppm  \n",
            "  inflating: Training/00004/00623_00001.ppm  \n",
            "  inflating: Training/00004/00623_00002.ppm  \n",
            "  inflating: Training/00004/01312_00000.ppm  \n",
            "  inflating: Training/00004/01312_00001.ppm  \n",
            "  inflating: Training/00004/01312_00002.ppm  \n",
            "  inflating: Training/00004/GT-00004.csv  \n",
            "   creating: Training/00005/\n",
            "  inflating: Training/00005/00261_00000.ppm  \n",
            "  inflating: Training/00005/00261_00001.ppm  \n",
            "  inflating: Training/00005/00390_00000.ppm  \n",
            "  inflating: Training/00005/00390_00001.ppm  \n",
            "  inflating: Training/00005/00390_00002.ppm  \n",
            "  inflating: Training/00005/00575_00000.ppm  \n",
            "  inflating: Training/00005/00575_00001.ppm  \n",
            "  inflating: Training/00005/00575_00002.ppm  \n",
            "  inflating: Training/00005/01893_00000.ppm  \n",
            "  inflating: Training/00005/01893_00001.ppm  \n",
            "  inflating: Training/00005/01893_00002.ppm  \n",
            "  inflating: Training/00005/GT-00005.csv  \n",
            "   creating: Training/00006/\n",
            "  inflating: Training/00006/00147_00000.ppm  \n",
            "  inflating: Training/00006/00147_00001.ppm  \n",
            "  inflating: Training/00006/00147_00002.ppm  \n",
            "  inflating: Training/00006/00215_00000.ppm  \n",
            "  inflating: Training/00006/00215_00001.ppm  \n",
            "  inflating: Training/00006/00215_00002.ppm  \n",
            "  inflating: Training/00006/00220_00000.ppm  \n",
            "  inflating: Training/00006/00220_00001.ppm  \n",
            "  inflating: Training/00006/00220_00002.ppm  \n",
            "  inflating: Training/00006/00221_00000.ppm  \n",
            "  inflating: Training/00006/00221_00001.ppm  \n",
            "  inflating: Training/00006/00221_00002.ppm  \n",
            "  inflating: Training/00006/00326_00000.ppm  \n",
            "  inflating: Training/00006/00326_00001.ppm  \n",
            "  inflating: Training/00006/00326_00002.ppm  \n",
            "  inflating: Training/00006/00327_00000.ppm  \n",
            "  inflating: Training/00006/00327_00001.ppm  \n",
            "  inflating: Training/00006/00327_00002.ppm  \n",
            "  inflating: Training/00006/GT-00006.csv  \n",
            "   creating: Training/00007/\n",
            "  inflating: Training/00007/00014_00000.ppm  \n",
            "  inflating: Training/00007/00014_00001.ppm  \n",
            "  inflating: Training/00007/00014_00002.ppm  \n",
            "  inflating: Training/00007/00051_00000.ppm  \n",
            "  inflating: Training/00007/00051_00001.ppm  \n",
            "  inflating: Training/00007/00051_00002.ppm  \n",
            "  inflating: Training/00007/00057_00000.ppm  \n",
            "  inflating: Training/00007/00057_00001.ppm  \n",
            "  inflating: Training/00007/00057_00002.ppm  \n",
            "  inflating: Training/00007/00068_00000.ppm  \n",
            "  inflating: Training/00007/00068_00001.ppm  \n",
            "  inflating: Training/00007/00068_00002.ppm  \n",
            "  inflating: Training/00007/00132_00000.ppm  \n",
            "  inflating: Training/00007/00132_00001.ppm  \n",
            "  inflating: Training/00007/00132_00002.ppm  \n",
            "  inflating: Training/00007/00259_00000.ppm  \n",
            "  inflating: Training/00007/00259_00001.ppm  \n",
            "  inflating: Training/00007/00259_00002.ppm  \n",
            "  inflating: Training/00007/00295_00000.ppm  \n",
            "  inflating: Training/00007/00295_00001.ppm  \n",
            "  inflating: Training/00007/00299_00000.ppm  \n",
            "  inflating: Training/00007/00299_00001.ppm  \n",
            "  inflating: Training/00007/00299_00002.ppm  \n",
            "  inflating: Training/00007/00305_00000.ppm  \n",
            "  inflating: Training/00007/00305_00001.ppm  \n",
            "  inflating: Training/00007/00305_00002.ppm  \n",
            "  inflating: Training/00007/00614_00000.ppm  \n",
            "  inflating: Training/00007/00614_00001.ppm  \n",
            "  inflating: Training/00007/00614_00002.ppm  \n",
            "  inflating: Training/00007/00618_00000.ppm  \n",
            "  inflating: Training/00007/00618_00001.ppm  \n",
            "  inflating: Training/00007/00618_00002.ppm  \n",
            "  inflating: Training/00007/00689_00000.ppm  \n",
            "  inflating: Training/00007/00689_00001.ppm  \n",
            "  inflating: Training/00007/00689_00002.ppm  \n",
            "  inflating: Training/00007/00689_00003.ppm  \n",
            "  inflating: Training/00007/00719_00000.ppm  \n",
            "  inflating: Training/00007/00719_00001.ppm  \n",
            "  inflating: Training/00007/00719_00002.ppm  \n",
            "  inflating: Training/00007/00736_00000.ppm  \n",
            "  inflating: Training/00007/00736_00001.ppm  \n",
            "  inflating: Training/00007/00736_00002.ppm  \n",
            "  inflating: Training/00007/00748_00000.ppm  \n",
            "  inflating: Training/00007/00748_00001.ppm  \n",
            "  inflating: Training/00007/00769_00000.ppm  \n",
            "  inflating: Training/00007/00769_00001.ppm  \n",
            "  inflating: Training/00007/00769_00002.ppm  \n",
            "  inflating: Training/00007/00770_00000.ppm  \n",
            "  inflating: Training/00007/00770_00001.ppm  \n",
            "  inflating: Training/00007/00770_00002.ppm  \n",
            "  inflating: Training/00007/00781_00000.ppm  \n",
            "  inflating: Training/00007/00781_00001.ppm  \n",
            "  inflating: Training/00007/00781_00002.ppm  \n",
            "  inflating: Training/00007/00987_00000.ppm  \n",
            "  inflating: Training/00007/00987_00001.ppm  \n",
            "  inflating: Training/00007/00987_00002.ppm  \n",
            "  inflating: Training/00007/00992_00000.ppm  \n",
            "  inflating: Training/00007/00992_00001.ppm  \n",
            "  inflating: Training/00007/00992_00002.ppm  \n",
            "  inflating: Training/00007/01017_00000.ppm  \n",
            "  inflating: Training/00007/01017_00001.ppm  \n",
            "  inflating: Training/00007/01017_00002.ppm  \n",
            "  inflating: Training/00007/01061_00000.ppm  \n",
            "  inflating: Training/00007/01061_00001.ppm  \n",
            "  inflating: Training/00007/01061_00002.ppm  \n",
            "  inflating: Training/00007/01061_00003.ppm  \n",
            "  inflating: Training/00007/01062_00000.ppm  \n",
            "  inflating: Training/00007/01062_00001.ppm  \n",
            "  inflating: Training/00007/01062_00002.ppm  \n",
            "  inflating: Training/00007/01077_00000.ppm  \n",
            "  inflating: Training/00007/01077_00001.ppm  \n",
            "  inflating: Training/00007/01077_00002.ppm  \n",
            "  inflating: Training/00007/01080_00000.ppm  \n",
            "  inflating: Training/00007/01080_00001.ppm  \n",
            "  inflating: Training/00007/01080_00002.ppm  \n",
            "  inflating: Training/00007/01081_00000.ppm  \n",
            "  inflating: Training/00007/01081_00001.ppm  \n",
            "  inflating: Training/00007/01081_00002.ppm  \n",
            "  inflating: Training/00007/01138_00000.ppm  \n",
            "  inflating: Training/00007/01138_00001.ppm  \n",
            "  inflating: Training/00007/01138_00002.ppm  \n",
            "  inflating: Training/00007/01139_00000.ppm  \n",
            "  inflating: Training/00007/01139_00001.ppm  \n",
            "  inflating: Training/00007/01139_00002.ppm  \n",
            "  inflating: Training/00007/01152_00000.ppm  \n",
            "  inflating: Training/00007/01152_00001.ppm  \n",
            "  inflating: Training/00007/01152_00002.ppm  \n",
            "  inflating: Training/00007/01159_00000.ppm  \n",
            "  inflating: Training/00007/01159_00001.ppm  \n",
            "  inflating: Training/00007/01159_00002.ppm  \n",
            "  inflating: Training/00007/01186_00000.ppm  \n",
            "  inflating: Training/00007/01186_00001.ppm  \n",
            "  inflating: Training/00007/01186_00002.ppm  \n",
            "  inflating: Training/00007/01189_00000.ppm  \n",
            "  inflating: Training/00007/01189_00001.ppm  \n",
            "  inflating: Training/00007/01189_00002.ppm  \n",
            "  inflating: Training/00007/01195_00000.ppm  \n",
            "  inflating: Training/00007/01195_00001.ppm  \n",
            "  inflating: Training/00007/01195_00002.ppm  \n",
            "  inflating: Training/00007/01339_00000.ppm  \n",
            "  inflating: Training/00007/01339_00001.ppm  \n",
            "  inflating: Training/00007/01339_00002.ppm  \n",
            "  inflating: Training/00007/01388_00000.ppm  \n",
            "  inflating: Training/00007/01388_00001.ppm  \n",
            "  inflating: Training/00007/01388_00002.ppm  \n",
            "  inflating: Training/00007/01393_00000.ppm  \n",
            "  inflating: Training/00007/01393_00001.ppm  \n",
            "  inflating: Training/00007/01393_00002.ppm  \n",
            "  inflating: Training/00007/01397_00000.ppm  \n",
            "  inflating: Training/00007/01397_00001.ppm  \n",
            "  inflating: Training/00007/01397_00002.ppm  \n",
            "  inflating: Training/00007/01406_00000.ppm  \n",
            "  inflating: Training/00007/01406_00001.ppm  \n",
            "  inflating: Training/00007/01406_00002.ppm  \n",
            "  inflating: Training/00007/01423_00000.ppm  \n",
            "  inflating: Training/00007/01423_00001.ppm  \n",
            "  inflating: Training/00007/01426_00000.ppm  \n",
            "  inflating: Training/00007/01426_00001.ppm  \n",
            "  inflating: Training/00007/01426_00002.ppm  \n",
            "  inflating: Training/00007/01433_00000.ppm  \n",
            "  inflating: Training/00007/01433_00001.ppm  \n",
            "  inflating: Training/00007/01433_00002.ppm  \n",
            "  inflating: Training/00007/01485_00000.ppm  \n",
            "  inflating: Training/00007/01485_00001.ppm  \n",
            "  inflating: Training/00007/01485_00002.ppm  \n",
            "  inflating: Training/00007/01531_00000.ppm  \n",
            "  inflating: Training/00007/01531_00001.ppm  \n",
            "  inflating: Training/00007/01531_00002.ppm  \n",
            "  inflating: Training/00007/01537_00000.ppm  \n",
            "  inflating: Training/00007/01537_00001.ppm  \n",
            "  inflating: Training/00007/01537_00002.ppm  \n",
            "  inflating: Training/00007/01598_00000.ppm  \n",
            "  inflating: Training/00007/01598_00001.ppm  \n",
            "  inflating: Training/00007/01598_00002.ppm  \n",
            "  inflating: Training/00007/01605_00000.ppm  \n",
            "  inflating: Training/00007/01605_00001.ppm  \n",
            "  inflating: Training/00007/01605_00002.ppm  \n",
            "  inflating: Training/00007/01653_00000.ppm  \n",
            "  inflating: Training/00007/01653_00001.ppm  \n",
            "  inflating: Training/00007/01653_00002.ppm  \n",
            "  inflating: Training/00007/01700_00000.ppm  \n",
            "  inflating: Training/00007/01700_00001.ppm  \n",
            "  inflating: Training/00007/01782_00000.ppm  \n",
            "  inflating: Training/00007/01782_00001.ppm  \n",
            "  inflating: Training/00007/01782_00002.ppm  \n",
            "  inflating: Training/00007/01794_00000.ppm  \n",
            "  inflating: Training/00007/01794_00001.ppm  \n",
            "  inflating: Training/00007/01794_00002.ppm  \n",
            "  inflating: Training/00007/01801_00000.ppm  \n",
            "  inflating: Training/00007/01801_00001.ppm  \n",
            "  inflating: Training/00007/01801_00002.ppm  \n",
            "  inflating: Training/00007/01880_00000.ppm  \n",
            "  inflating: Training/00007/01880_00001.ppm  \n",
            "  inflating: Training/00007/01880_00002.ppm  \n",
            "  inflating: Training/00007/01888_00000.ppm  \n",
            "  inflating: Training/00007/01888_00001.ppm  \n",
            "  inflating: Training/00007/01888_00002.ppm  \n",
            "  inflating: Training/00007/GT-00007.csv  \n",
            "   creating: Training/00008/\n",
            "  inflating: Training/00008/00046_00000.ppm  \n",
            "  inflating: Training/00008/00046_00001.ppm  \n",
            "  inflating: Training/00008/00046_00002.ppm  \n",
            "  inflating: Training/00008/01016_00000.ppm  \n",
            "  inflating: Training/00008/01016_00001.ppm  \n",
            "  inflating: Training/00008/01016_00002.ppm  \n",
            "  inflating: Training/00008/01020_00000.ppm  \n",
            "  inflating: Training/00008/01020_00001.ppm  \n",
            "  inflating: Training/00008/01020_00002.ppm  \n",
            "  inflating: Training/00008/01520_00000.ppm  \n",
            "  inflating: Training/00008/01520_00001.ppm  \n",
            "  inflating: Training/00008/01520_00002.ppm  \n",
            "  inflating: Training/00008/01521_00000.ppm  \n",
            "  inflating: Training/00008/01521_00001.ppm  \n",
            "  inflating: Training/00008/01521_00002.ppm  \n",
            "  inflating: Training/00008/01530_00000.ppm  \n",
            "  inflating: Training/00008/01530_00001.ppm  \n",
            "  inflating: Training/00008/01530_00002.ppm  \n",
            "  inflating: Training/00008/01578_00000.ppm  \n",
            "  inflating: Training/00008/01578_00001.ppm  \n",
            "  inflating: Training/00008/01578_00002.ppm  \n",
            "  inflating: Training/00008/01663_00000.ppm  \n",
            "  inflating: Training/00008/01663_00001.ppm  \n",
            "  inflating: Training/00008/01663_00002.ppm  \n",
            "  inflating: Training/00008/01873_00000.ppm  \n",
            "  inflating: Training/00008/01873_00001.ppm  \n",
            "  inflating: Training/00008/01873_00002.ppm  \n",
            "  inflating: Training/00008/GT-00008.csv  \n",
            "   creating: Training/00009/\n",
            "  inflating: Training/00009/00141_00000.ppm  \n",
            "  inflating: Training/00009/00141_00001.ppm  \n",
            "  inflating: Training/00009/00141_00002.ppm  \n",
            "  inflating: Training/00009/00223_00000.ppm  \n",
            "  inflating: Training/00009/00223_00001.ppm  \n",
            "  inflating: Training/00009/00223_00002.ppm  \n",
            "  inflating: Training/00009/00224_00000.ppm  \n",
            "  inflating: Training/00009/00224_00001.ppm  \n",
            "  inflating: Training/00009/00224_00002.ppm  \n",
            "  inflating: Training/00009/00285_00000.ppm  \n",
            "  inflating: Training/00009/00285_00001.ppm  \n",
            "  inflating: Training/00009/00285_00002.ppm  \n",
            "  inflating: Training/00009/00286_00000.ppm  \n",
            "  inflating: Training/00009/00286_00001.ppm  \n",
            "  inflating: Training/00009/00286_00002.ppm  \n",
            "  inflating: Training/00009/00410_00000.ppm  \n",
            "  inflating: Training/00009/00410_00001.ppm  \n",
            "  inflating: Training/00009/00410_00002.ppm  \n",
            "  inflating: Training/00009/GT-00009.csv  \n",
            "   creating: Training/00010/\n",
            "  inflating: Training/00010/00240_00000.ppm  \n",
            "  inflating: Training/00010/00240_00001.ppm  \n",
            "  inflating: Training/00010/00240_00002.ppm  \n",
            "  inflating: Training/00010/00249_00000.ppm  \n",
            "  inflating: Training/00010/00249_00001.ppm  \n",
            "  inflating: Training/00010/00249_00002.ppm  \n",
            "  inflating: Training/00010/00254_00000.ppm  \n",
            "  inflating: Training/00010/00254_00001.ppm  \n",
            "  inflating: Training/00010/00254_00002.ppm  \n",
            "  inflating: Training/00010/00262_00000.ppm  \n",
            "  inflating: Training/00010/00262_00001.ppm  \n",
            "  inflating: Training/00010/00262_00002.ppm  \n",
            "  inflating: Training/00010/00263_00000.ppm  \n",
            "  inflating: Training/00010/00263_00001.ppm  \n",
            "  inflating: Training/00010/00263_00002.ppm  \n",
            "  inflating: Training/00010/00289_00000.ppm  \n",
            "  inflating: Training/00010/00289_00001.ppm  \n",
            "  inflating: Training/00010/00289_00002.ppm  \n",
            "  inflating: Training/00010/01903_00000.ppm  \n",
            "  inflating: Training/00010/01903_00001.ppm  \n",
            "  inflating: Training/00010/01903_00002.ppm  \n",
            "  inflating: Training/00010/GT-00010.csv  \n",
            "   creating: Training/00011/\n",
            "  inflating: Training/00011/00271_00000.ppm  \n",
            "  inflating: Training/00011/00271_00001.ppm  \n",
            "  inflating: Training/00011/00271_00002.ppm  \n",
            "  inflating: Training/00011/00271_00003.ppm  \n",
            "  inflating: Training/00011/01507_00000.ppm  \n",
            "  inflating: Training/00011/01507_00001.ppm  \n",
            "  inflating: Training/00011/01507_00002.ppm  \n",
            "  inflating: Training/00011/GT-00011.csv  \n",
            "   creating: Training/00012/\n",
            "  inflating: Training/00012/01473_00000.ppm  \n",
            "  inflating: Training/00012/01473_00001.ppm  \n",
            "  inflating: Training/00012/01473_00002.ppm  \n",
            "  inflating: Training/00012/01564_00000.ppm  \n",
            "  inflating: Training/00012/01564_00001.ppm  \n",
            "  inflating: Training/00012/01564_00002.ppm  \n",
            "  inflating: Training/00012/01565_00000.ppm  \n",
            "  inflating: Training/00012/01565_00001.ppm  \n",
            "  inflating: Training/00012/01565_00002.ppm  \n",
            "  inflating: Training/00012/01609_00000.ppm  \n",
            "  inflating: Training/00012/01609_00001.ppm  \n",
            "  inflating: Training/00012/01609_00002.ppm  \n",
            "  inflating: Training/00012/01652_00000.ppm  \n",
            "  inflating: Training/00012/01652_00001.ppm  \n",
            "  inflating: Training/00012/01652_00002.ppm  \n",
            "  inflating: Training/00012/01734_00000.ppm  \n",
            "  inflating: Training/00012/01734_00001.ppm  \n",
            "  inflating: Training/00012/01734_00002.ppm  \n",
            "  inflating: Training/00012/GT-00012.csv  \n",
            "   creating: Training/00013/\n",
            "  inflating: Training/00013/00138_00000.ppm  \n",
            "  inflating: Training/00013/00138_00001.ppm  \n",
            "  inflating: Training/00013/00138_00002.ppm  \n",
            "  inflating: Training/00013/00178_00000.ppm  \n",
            "  inflating: Training/00013/00178_00001.ppm  \n",
            "  inflating: Training/00013/00178_00002.ppm  \n",
            "  inflating: Training/00013/00184_00000.ppm  \n",
            "  inflating: Training/00013/00184_00001.ppm  \n",
            "  inflating: Training/00013/00184_00002.ppm  \n",
            "  inflating: Training/00013/00196_00000.ppm  \n",
            "  inflating: Training/00013/00196_00001.ppm  \n",
            "  inflating: Training/00013/00196_00002.ppm  \n",
            "  inflating: Training/00013/00197_00000.ppm  \n",
            "  inflating: Training/00013/00197_00001.ppm  \n",
            "  inflating: Training/00013/00197_00002.ppm  \n",
            "  inflating: Training/00013/00202_00000.ppm  \n",
            "  inflating: Training/00013/00202_00001.ppm  \n",
            "  inflating: Training/00013/00202_00002.ppm  \n",
            "  inflating: Training/00013/00235_00000.ppm  \n",
            "  inflating: Training/00013/00235_00001.ppm  \n",
            "  inflating: Training/00013/00235_00002.ppm  \n",
            "  inflating: Training/00013/00248_00000.ppm  \n",
            "  inflating: Training/00013/00248_00001.ppm  \n",
            "  inflating: Training/00013/00248_00002.ppm  \n",
            "  inflating: Training/00013/00257_00000.ppm  \n",
            "  inflating: Training/00013/00257_00001.ppm  \n",
            "  inflating: Training/00013/00257_00002.ppm  \n",
            "  inflating: Training/00013/00307_00000.ppm  \n",
            "  inflating: Training/00013/00307_00001.ppm  \n",
            "  inflating: Training/00013/00307_00002.ppm  \n",
            "  inflating: Training/00013/00433_00000.ppm  \n",
            "  inflating: Training/00013/00433_00001.ppm  \n",
            "  inflating: Training/00013/00433_00002.ppm  \n",
            "  inflating: Training/00013/00572_00000.ppm  \n",
            "  inflating: Training/00013/00572_00001.ppm  \n",
            "  inflating: Training/00013/00572_00002.ppm  \n",
            "  inflating: Training/00013/00866_00000.ppm  \n",
            "  inflating: Training/00013/00866_00001.ppm  \n",
            "  inflating: Training/00013/00866_00002.ppm  \n",
            "  inflating: Training/00013/00869_00000.ppm  \n",
            "  inflating: Training/00013/00869_00001.ppm  \n",
            "  inflating: Training/00013/00869_00002.ppm  \n",
            "  inflating: Training/00013/00880_00000.ppm  \n",
            "  inflating: Training/00013/00880_00001.ppm  \n",
            "  inflating: Training/00013/00880_00002.ppm  \n",
            "  inflating: Training/00013/00884_00000.ppm  \n",
            "  inflating: Training/00013/00884_00001.ppm  \n",
            "  inflating: Training/00013/00884_00002.ppm  \n",
            "  inflating: Training/00013/00919_00000.ppm  \n",
            "  inflating: Training/00013/00919_00001.ppm  \n",
            "  inflating: Training/00013/00919_00002.ppm  \n",
            "  inflating: Training/00013/00961_00000.ppm  \n",
            "  inflating: Training/00013/00961_00001.ppm  \n",
            "  inflating: Training/00013/00961_00002.ppm  \n",
            "  inflating: Training/00013/01447_00000.ppm  \n",
            "  inflating: Training/00013/01447_00001.ppm  \n",
            "  inflating: Training/00013/01447_00002.ppm  \n",
            "  inflating: Training/00013/01450_00000.ppm  \n",
            "  inflating: Training/00013/01450_00001.ppm  \n",
            "  inflating: Training/00013/01450_00002.ppm  \n",
            "  inflating: Training/00013/01452_00000.ppm  \n",
            "  inflating: Training/00013/01452_00001.ppm  \n",
            "  inflating: Training/00013/01452_00002.ppm  \n",
            "  inflating: Training/00013/01466_00000.ppm  \n",
            "  inflating: Training/00013/01466_00001.ppm  \n",
            "  inflating: Training/00013/01466_00002.ppm  \n",
            "  inflating: Training/00013/01471_00000.ppm  \n",
            "  inflating: Training/00013/01471_00001.ppm  \n",
            "  inflating: Training/00013/01471_00002.ppm  \n",
            "  inflating: Training/00013/01549_00000.ppm  \n",
            "  inflating: Training/00013/01549_00001.ppm  \n",
            "  inflating: Training/00013/01549_00002.ppm  \n",
            "  inflating: Training/00013/01574_00000.ppm  \n",
            "  inflating: Training/00013/01574_00001.ppm  \n",
            "  inflating: Training/00013/01574_00002.ppm  \n",
            "  inflating: Training/00013/01575_00000.ppm  \n",
            "  inflating: Training/00013/01575_00001.ppm  \n",
            "  inflating: Training/00013/01575_00002.ppm  \n",
            "  inflating: Training/00013/01576_00000.ppm  \n",
            "  inflating: Training/00013/01576_00001.ppm  \n",
            "  inflating: Training/00013/01576_00002.ppm  \n",
            "  inflating: Training/00013/01580_00000.ppm  \n",
            "  inflating: Training/00013/01580_00001.ppm  \n",
            "  inflating: Training/00013/01580_00002.ppm  \n",
            "  inflating: Training/00013/01682_00000.ppm  \n",
            "  inflating: Training/00013/01682_00001.ppm  \n",
            "  inflating: Training/00013/01682_00002.ppm  \n",
            "  inflating: Training/00013/01704_00000.ppm  \n",
            "  inflating: Training/00013/01704_00001.ppm  \n",
            "  inflating: Training/00013/01704_00002.ppm  \n",
            "  inflating: Training/00013/GT-00013.csv  \n",
            "   creating: Training/00014/\n",
            "  inflating: Training/00014/00208_00000.ppm  \n",
            "  inflating: Training/00014/00208_00001.ppm  \n",
            "  inflating: Training/00014/00208_00002.ppm  \n",
            "  inflating: Training/00014/00379_00000.ppm  \n",
            "  inflating: Training/00014/00379_00001.ppm  \n",
            "  inflating: Training/00014/00379_00002.ppm  \n",
            "  inflating: Training/00014/00406_00000.ppm  \n",
            "  inflating: Training/00014/00406_00001.ppm  \n",
            "  inflating: Training/00014/00406_00002.ppm  \n",
            "  inflating: Training/00014/00408_00000.ppm  \n",
            "  inflating: Training/00014/00408_00001.ppm  \n",
            "  inflating: Training/00014/00408_00002.ppm  \n",
            "  inflating: Training/00014/00448_00000.ppm  \n",
            "  inflating: Training/00014/00448_00001.ppm  \n",
            "  inflating: Training/00014/00448_00002.ppm  \n",
            "  inflating: Training/00014/00859_00000.ppm  \n",
            "  inflating: Training/00014/00859_00001.ppm  \n",
            "  inflating: Training/00014/00859_00002.ppm  \n",
            "  inflating: Training/00014/00899_00000.ppm  \n",
            "  inflating: Training/00014/00899_00001.ppm  \n",
            "  inflating: Training/00014/00899_00002.ppm  \n",
            "  inflating: Training/00014/00911_00000.ppm  \n",
            "  inflating: Training/00014/00911_00001.ppm  \n",
            "  inflating: Training/00014/00911_00002.ppm  \n",
            "  inflating: Training/00014/01135_00000.ppm  \n",
            "  inflating: Training/00014/01135_00001.ppm  \n",
            "  inflating: Training/00014/01135_00002.ppm  \n",
            "  inflating: Training/00014/01490_00000.ppm  \n",
            "  inflating: Training/00014/01490_00001.ppm  \n",
            "  inflating: Training/00014/01544_00000.ppm  \n",
            "  inflating: Training/00014/01544_00001.ppm  \n",
            "  inflating: Training/00014/01544_00002.ppm  \n",
            "  inflating: Training/00014/01558_00000.ppm  \n",
            "  inflating: Training/00014/01558_00001.ppm  \n",
            "  inflating: Training/00014/01558_00002.ppm  \n",
            "  inflating: Training/00014/01780_00000.ppm  \n",
            "  inflating: Training/00014/01780_00001.ppm  \n",
            "  inflating: Training/00014/01780_00002.ppm  \n",
            "  inflating: Training/00014/01925_00000.ppm  \n",
            "  inflating: Training/00014/01925_00001.ppm  \n",
            "  inflating: Training/00014/01926_00000.ppm  \n",
            "  inflating: Training/00014/01926_00001.ppm  \n",
            "  inflating: Training/00014/01926_00002.ppm  \n",
            "  inflating: Training/00014/GT-00014.csv  \n",
            "   creating: Training/00015/\n",
            "  inflating: Training/00015/00331_00000.ppm  \n",
            "  inflating: Training/00015/00331_00001.ppm  \n",
            "  inflating: Training/00015/00331_00002.ppm  \n",
            "  inflating: Training/00015/00675_00000.ppm  \n",
            "  inflating: Training/00015/00675_00001.ppm  \n",
            "  inflating: Training/00015/00675_00002.ppm  \n",
            "  inflating: Training/00015/00709_00000.ppm  \n",
            "  inflating: Training/00015/00709_00001.ppm  \n",
            "  inflating: Training/00015/00709_00002.ppm  \n",
            "  inflating: Training/00015/GT-00015.csv  \n"
          ],
          "name": "stdout"
        }
      ]
    },
    {
      "cell_type": "code",
      "metadata": {
        "id": "RGXgZrNs0iDG"
      },
      "source": [
        "import glob\n",
        "from skimage.transform import resize\n",
        "import numpy as np \n",
        "import matplotlib\n",
        "import matplotlib.pyplot as plt\n",
        "import skimage.transform\n",
        "import tensorflow as tf\n",
        "import os\n",
        "import cv2"
      ],
      "execution_count": 43,
      "outputs": []
    },
    {
      "cell_type": "code",
      "metadata": {
        "id": "cwdlK6lSjEO_"
      },
      "source": [
        "def read_dataset(Directory):\n",
        "  labels = []\n",
        "  images = []\n",
        " \n",
        "  directories = [direc for direc in os.listdir(Directory) \n",
        "                   if os.path.isdir(os.path.join(Directory, direc))]\n",
        "\n",
        "  for direc in directories:\n",
        "        label = os.path.join(Directory, direc)\n",
        "        img_names = [os.path.join(label, img) \n",
        "                      for img in os.listdir(label) if img.endswith(\".ppm\")]\n",
        "       \n",
        "        for img in img_names:\n",
        "          imag = cv2.imread(img)\n",
        "          imag = skimage.transform.resize(imag, (75,75), mode='constant')\n",
        "          images.append(imag)\n",
        "          labels.append(int(direc))\n",
        "\n",
        "  return images, labels"
      ],
      "execution_count": 44,
      "outputs": []
    },
    {
      "cell_type": "code",
      "metadata": {
        "id": "iV8Fu5cB0YHM"
      },
      "source": [
        "images, labels = read_dataset('Training/')\n",
        "images_test, labels_test = read_dataset('Training/')"
      ],
      "execution_count": 45,
      "outputs": []
    },
    {
      "cell_type": "code",
      "metadata": {
        "id": "ux1YR1tP0wFv",
        "colab": {
          "base_uri": "https://localhost:8080/"
        },
        "outputId": "e04bc12e-c9d4-4bb3-d9ed-4afa7ed29b53"
      },
      "source": [
        "np_labels = np.array(labels).astype(np.float32)\n",
        "np_images = np.array(images).astype(np.float32)\n",
        "print(\"labels: \", np_labels.shape, \"\\nimages: \", np_images.shape)"
      ],
      "execution_count": 46,
      "outputs": [
        {
          "output_type": "stream",
          "text": [
            "labels:  (587,) \n",
            "images:  (587, 75, 75, 3)\n"
          ],
          "name": "stdout"
        }
      ]
    },
    {
      "cell_type": "code",
      "metadata": {
        "id": "Pjhp-k1W53aY",
        "colab": {
          "base_uri": "https://localhost:8080/"
        },
        "outputId": "2be565e5-1980-4256-d3cf-c06541726819"
      },
      "source": [
        "np_test_labels = np.array(labels_test).astype(np.float32)\n",
        "np_test_images = np.array(images_test).astype(np.float32)\n",
        "print(\"images: \", np_test_images.shape, \"\\nlabels: \", np_test_labels.shape)"
      ],
      "execution_count": 47,
      "outputs": [
        {
          "output_type": "stream",
          "text": [
            "images:  (587, 75, 75, 3) \n",
            "labels:  (587,)\n"
          ],
          "name": "stdout"
        }
      ]
    },
    {
      "cell_type": "code",
      "metadata": {
        "id": "i3OQHgIsnSxO",
        "colab": {
          "base_uri": "https://localhost:8080/"
        },
        "outputId": "e788854f-4b5e-4fd4-ed9b-ab6630b44309"
      },
      "source": [
        "IMG_SHAPE = (75, 75, 3)\n",
        "base_model = tf.keras.applications.xception.Xception(input_shape=IMG_SHAPE,include_top=False,weights='imagenet')\n",
        "#base_model = tf.keras.applications.inception_resnet_v2.InceptionResNetV2(input_shape=IMG_SHAPE,include_top=False,weights='imagenet')"
      ],
      "execution_count": 50,
      "outputs": [
        {
          "output_type": "stream",
          "text": [
            "Downloading data from https://storage.googleapis.com/tensorflow/keras-applications/xception/xception_weights_tf_dim_ordering_tf_kernels_notop.h5\n",
            "83689472/83683744 [==============================] - 0s 0us/step\n"
          ],
          "name": "stdout"
        }
      ]
    },
    {
      "cell_type": "code",
      "metadata": {
        "id": "4qt1SQ5Qyhxd"
      },
      "source": [
        "feature_batch= base_model(np_images)"
      ],
      "execution_count": 51,
      "outputs": []
    },
    {
      "cell_type": "code",
      "metadata": {
        "id": "KZbjmOnmzA3v"
      },
      "source": [
        "base_model.trainable = False"
      ],
      "execution_count": 52,
      "outputs": []
    },
    {
      "cell_type": "code",
      "metadata": {
        "id": "5-NzlXoszN3g",
        "colab": {
          "base_uri": "https://localhost:8080/"
        },
        "outputId": "c11ace2d-3a15-4249-af86-45d55ca44dbd"
      },
      "source": [
        "global_average_layer = tf.keras.layers.GlobalAveragePooling2D()\n",
        "feature_batch_average = global_average_layer(feature_batch)\n",
        "print(feature_batch_average.shape)"
      ],
      "execution_count": 53,
      "outputs": [
        {
          "output_type": "stream",
          "text": [
            "(587, 2048)\n"
          ],
          "name": "stdout"
        }
      ]
    },
    {
      "cell_type": "code",
      "metadata": {
        "id": "zC85nIaJzZ1s"
      },
      "source": [
        "prediction_layer = tf.keras.layers.Dense(62,activation='linear')\n",
        "dropp =tf.keras.layers.Dropout(0.4)\n",
        "dropp2 =tf.keras.layers.Dropout(0.5)\n",
        "prediction_layer2 = tf.keras.layers.Dense(1536,activation='relu')\n",
        "#prediction_batch = prediction_layer(feature_batch_average)\n",
        "#print(prediction_batch.shape)"
      ],
      "execution_count": 54,
      "outputs": []
    },
    {
      "cell_type": "code",
      "metadata": {
        "id": "1ldXmjgDzgrT"
      },
      "source": [
        "model = tf.keras.Sequential([\n",
        "  base_model,\n",
        "  dropp,\n",
        "  global_average_layer,\n",
        "  dropp2,\n",
        "  prediction_layer2,\n",
        "  prediction_layer\n",
        "])"
      ],
      "execution_count": 55,
      "outputs": []
    },
    {
      "cell_type": "code",
      "metadata": {
        "id": "fvhzNJ9ZnQD4",
        "colab": {
          "base_uri": "https://localhost:8080/"
        },
        "outputId": "5959b524-b5eb-46b7-c0ca-aef3d42929be"
      },
      "source": [
        "model.summary()"
      ],
      "execution_count": 56,
      "outputs": [
        {
          "output_type": "stream",
          "text": [
            "Model: \"sequential_1\"\n",
            "_________________________________________________________________\n",
            "Layer (type)                 Output Shape              Param #   \n",
            "=================================================================\n",
            "xception (Functional)        (None, 3, 3, 2048)        20861480  \n",
            "_________________________________________________________________\n",
            "dropout_2 (Dropout)          (None, 3, 3, 2048)        0         \n",
            "_________________________________________________________________\n",
            "global_average_pooling2d_1 ( (None, 2048)              0         \n",
            "_________________________________________________________________\n",
            "dropout_3 (Dropout)          (None, 2048)              0         \n",
            "_________________________________________________________________\n",
            "dense_3 (Dense)              (None, 1536)              3147264   \n",
            "_________________________________________________________________\n",
            "dense_2 (Dense)              (None, 62)                95294     \n",
            "=================================================================\n",
            "Total params: 24,104,038\n",
            "Trainable params: 3,242,558\n",
            "Non-trainable params: 20,861,480\n",
            "_________________________________________________________________\n"
          ],
          "name": "stdout"
        }
      ]
    },
    {
      "cell_type": "code",
      "metadata": {
        "id": "fJVro8e8ea_y"
      },
      "source": [
        "from sklearn.model_selection import train_test_split"
      ],
      "execution_count": 57,
      "outputs": []
    },
    {
      "cell_type": "code",
      "metadata": {
        "id": "TdkpW2iWeuX3"
      },
      "source": [
        "X_train, X_valid, y_train, y_valid = train_test_split(np_images, np_labels, test_size=0.05, random_state=42)"
      ],
      "execution_count": 58,
      "outputs": []
    },
    {
      "cell_type": "code",
      "metadata": {
        "id": "nAL2vidrzm3b"
      },
      "source": [
        "model.compile(optimizer='adam',\n",
        "              loss=tf.keras.losses.SparseCategoricalCrossentropy(from_logits=True),\n",
        "              metrics=['accuracy'])"
      ],
      "execution_count": 59,
      "outputs": []
    },
    {
      "cell_type": "code",
      "metadata": {
        "id": "hgMeBXZ232Bd",
        "colab": {
          "base_uri": "https://localhost:8080/"
        },
        "outputId": "bcc86da3-2d34-4e2b-a701-8459ea32756f"
      },
      "source": [
        "history = model.fit(X_train,y_train,epochs=10,validation_data=(X_valid,y_valid))"
      ],
      "execution_count": 60,
      "outputs": [
        {
          "output_type": "stream",
          "text": [
            "Epoch 1/10\n",
            "18/18 [==============================] - 4s 83ms/step - loss: 3.1181 - accuracy: 0.3224 - val_loss: 1.4373 - val_accuracy: 0.6333\n",
            "Epoch 2/10\n",
            "18/18 [==============================] - 0s 23ms/step - loss: 1.2336 - accuracy: 0.6409 - val_loss: 1.0703 - val_accuracy: 0.7333\n",
            "Epoch 3/10\n",
            "18/18 [==============================] - 0s 22ms/step - loss: 0.7000 - accuracy: 0.7910 - val_loss: 0.8394 - val_accuracy: 0.7333\n",
            "Epoch 4/10\n",
            "18/18 [==============================] - 0s 23ms/step - loss: 0.4706 - accuracy: 0.8482 - val_loss: 0.9238 - val_accuracy: 0.6667\n",
            "Epoch 5/10\n",
            "18/18 [==============================] - 0s 22ms/step - loss: 0.3708 - accuracy: 0.8945 - val_loss: 0.9023 - val_accuracy: 0.7333\n",
            "Epoch 6/10\n",
            "18/18 [==============================] - 0s 23ms/step - loss: 0.2958 - accuracy: 0.8966 - val_loss: 0.6782 - val_accuracy: 0.8000\n",
            "Epoch 7/10\n",
            "18/18 [==============================] - 0s 22ms/step - loss: 0.2428 - accuracy: 0.9351 - val_loss: 0.7396 - val_accuracy: 0.7667\n",
            "Epoch 8/10\n",
            "18/18 [==============================] - 0s 22ms/step - loss: 0.2090 - accuracy: 0.9333 - val_loss: 0.8265 - val_accuracy: 0.7333\n",
            "Epoch 9/10\n",
            "18/18 [==============================] - 0s 22ms/step - loss: 0.2494 - accuracy: 0.9193 - val_loss: 0.4553 - val_accuracy: 0.9000\n",
            "Epoch 10/10\n",
            "18/18 [==============================] - 0s 23ms/step - loss: 0.1996 - accuracy: 0.9409 - val_loss: 0.8615 - val_accuracy: 0.7333\n"
          ],
          "name": "stdout"
        }
      ]
    },
    {
      "cell_type": "code",
      "metadata": {
        "id": "0WK7y8l132FY",
        "colab": {
          "base_uri": "https://localhost:8080/"
        },
        "outputId": "6445e90a-3d7e-497e-e9a2-be286c10a4f1"
      },
      "source": [
        "test_loss, test_acc = model.evaluate(np_test_images,  np_test_labels, verbose=2)"
      ],
      "execution_count": 61,
      "outputs": [
        {
          "output_type": "stream",
          "text": [
            "19/19 - 1s - loss: 0.0849 - accuracy: 0.9864\n"
          ],
          "name": "stdout"
        }
      ]
    },
    {
      "cell_type": "code",
      "metadata": {
        "id": "Ea8H8NfvCbZj",
        "colab": {
          "base_uri": "https://localhost:8080/"
        },
        "outputId": "dfbc3c09-b568-4fcd-8c74-9bba488a557d"
      },
      "source": [
        "base_model.trainable = True\n",
        "print(\"original layers in the base model before fine tuning: \", len(base_model.layers))\n",
        "fine_tune = 100\n",
        "for layer in base_model.layers[:fine_tune]:\n",
        "  layer.trainable =  False"
      ],
      "execution_count": 62,
      "outputs": [
        {
          "output_type": "stream",
          "text": [
            "original layers in the base model before fine tuning:  132\n"
          ],
          "name": "stdout"
        }
      ]
    },
    {
      "cell_type": "code",
      "metadata": {
        "id": "GBZ3nIBPDR9Y",
        "colab": {
          "base_uri": "https://localhost:8080/"
        },
        "outputId": "33fc09c4-f7f0-4508-a0ce-79cfbbc46e54"
      },
      "source": [
        "print(\"trainable variables after fine tuning: \",len(model.trainable_variables))"
      ],
      "execution_count": 63,
      "outputs": [
        {
          "output_type": "stream",
          "text": [
            "trainable variables after fine tuning:  43\n"
          ],
          "name": "stdout"
        }
      ]
    },
    {
      "cell_type": "code",
      "metadata": {
        "id": "XVmoGueIDNgE",
        "colab": {
          "base_uri": "https://localhost:8080/"
        },
        "outputId": "d0743c2a-3ba5-482e-e737-25f0a207a3af"
      },
      "source": [
        "model.summary()"
      ],
      "execution_count": 64,
      "outputs": [
        {
          "output_type": "stream",
          "text": [
            "Model: \"sequential_1\"\n",
            "_________________________________________________________________\n",
            "Layer (type)                 Output Shape              Param #   \n",
            "=================================================================\n",
            "xception (Functional)        (None, 3, 3, 2048)        20861480  \n",
            "_________________________________________________________________\n",
            "dropout_2 (Dropout)          (None, 3, 3, 2048)        0         \n",
            "_________________________________________________________________\n",
            "global_average_pooling2d_1 ( (None, 2048)              0         \n",
            "_________________________________________________________________\n",
            "dropout_3 (Dropout)          (None, 2048)              0         \n",
            "_________________________________________________________________\n",
            "dense_3 (Dense)              (None, 1536)              3147264   \n",
            "_________________________________________________________________\n",
            "dense_2 (Dense)              (None, 62)                95294     \n",
            "=================================================================\n",
            "Total params: 24,104,038\n",
            "Trainable params: 12,720,902\n",
            "Non-trainable params: 11,383,136\n",
            "_________________________________________________________________\n"
          ],
          "name": "stdout"
        }
      ]
    },
    {
      "cell_type": "code",
      "metadata": {
        "id": "S1s3Vn2oC3bc"
      },
      "source": [
        "model.compile(optimizer='adam',\n",
        "              loss=tf.keras.losses.SparseCategoricalCrossentropy(from_logits=True),\n",
        "              metrics=['accuracy'])"
      ],
      "execution_count": 65,
      "outputs": []
    },
    {
      "cell_type": "code",
      "metadata": {
        "id": "cRq7OiKJDTUt",
        "colab": {
          "base_uri": "https://localhost:8080/"
        },
        "outputId": "eb745844-47f3-47aa-e062-6945180f95e9"
      },
      "source": [
        "history = model.fit(X_train,y_train,epochs=20,validation_data=(X_valid,y_valid),initial_epoch=history.epoch[-1])"
      ],
      "execution_count": 66,
      "outputs": [
        {
          "output_type": "stream",
          "text": [
            "Epoch 10/20\n",
            "18/18 [==============================] - 5s 142ms/step - loss: 2.5425 - accuracy: 0.5031 - val_loss: 3.0250 - val_accuracy: 0.7000\n",
            "Epoch 11/20\n",
            "18/18 [==============================] - 1s 37ms/step - loss: 0.4209 - accuracy: 0.8848 - val_loss: 2.1402 - val_accuracy: 0.7000\n",
            "Epoch 12/20\n",
            "18/18 [==============================] - 1s 37ms/step - loss: 0.2129 - accuracy: 0.9442 - val_loss: 3.1343 - val_accuracy: 0.7667\n",
            "Epoch 13/20\n",
            "18/18 [==============================] - 1s 37ms/step - loss: 0.0475 - accuracy: 0.9860 - val_loss: 2.3237 - val_accuracy: 0.7333\n",
            "Epoch 14/20\n",
            "18/18 [==============================] - 1s 37ms/step - loss: 0.1626 - accuracy: 0.9538 - val_loss: 1.4805 - val_accuracy: 0.7667\n",
            "Epoch 15/20\n",
            "18/18 [==============================] - 1s 37ms/step - loss: 0.1126 - accuracy: 0.9687 - val_loss: 2.4353 - val_accuracy: 0.7667\n",
            "Epoch 16/20\n",
            "18/18 [==============================] - 1s 37ms/step - loss: 0.1934 - accuracy: 0.9406 - val_loss: 3.1472 - val_accuracy: 0.8000\n",
            "Epoch 17/20\n",
            "18/18 [==============================] - 1s 37ms/step - loss: 0.0736 - accuracy: 0.9830 - val_loss: 0.7674 - val_accuracy: 0.9333\n",
            "Epoch 18/20\n",
            "18/18 [==============================] - 1s 37ms/step - loss: 0.1528 - accuracy: 0.9749 - val_loss: 4.0175 - val_accuracy: 0.8000\n",
            "Epoch 19/20\n",
            "18/18 [==============================] - 1s 37ms/step - loss: 0.1716 - accuracy: 0.9488 - val_loss: 1.2525 - val_accuracy: 0.8000\n",
            "Epoch 20/20\n",
            "18/18 [==============================] - 1s 37ms/step - loss: 0.0822 - accuracy: 0.9686 - val_loss: 2.6534 - val_accuracy: 0.8333\n"
          ],
          "name": "stdout"
        }
      ]
    },
    {
      "cell_type": "code",
      "metadata": {
        "id": "Yvabu6N5Kl-q",
        "colab": {
          "base_uri": "https://localhost:8080/"
        },
        "outputId": "008ee39d-611a-48d8-dacd-19ba05884dc7"
      },
      "source": [
        "test_loss, test_acc = model.evaluate(np_test_images,  np_test_labels, verbose=2)"
      ],
      "execution_count": 67,
      "outputs": [
        {
          "output_type": "stream",
          "text": [
            "19/19 - 0s - loss: 1.1385 - accuracy: 0.9284\n"
          ],
          "name": "stdout"
        }
      ]
    },
    {
      "cell_type": "code",
      "metadata": {
        "id": "vsekQyM_6cT3"
      },
      "source": [
        "predict = np.argmax(model.predict(np_test_images), axis = 1)"
      ],
      "execution_count": 68,
      "outputs": []
    },
    {
      "cell_type": "code",
      "metadata": {
        "id": "rF3YtPyRAV6T"
      },
      "source": [
        "labelCon = []\n",
        "for i in range(62):\n",
        "  labelCon.append(i)"
      ],
      "execution_count": 69,
      "outputs": []
    },
    {
      "cell_type": "code",
      "metadata": {
        "id": "8PrCnyjM9Px5",
        "colab": {
          "base_uri": "https://localhost:8080/"
        },
        "outputId": "d1a9a609-9343-4896-ed9f-161c67e4cd3c"
      },
      "source": [
        "from sklearn.metrics import classification_report, confusion_matrix\n",
        "print('Confusion Matrix')\n",
        "print(confusion_matrix(np_test_labels, predict , labelCon))"
      ],
      "execution_count": 70,
      "outputs": [
        {
          "output_type": "stream",
          "text": [
            "Confusion Matrix\n",
            "[[  9   6   0 ...   0   0   0]\n",
            " [  0 110   0 ...   0   0   0]\n",
            " [  0   6   7 ...   0   0   0]\n",
            " ...\n",
            " [  0   0   0 ...   0   0   0]\n",
            " [  0   0   0 ...   0   0   0]\n",
            " [  0   0   0 ...   0   0   0]]\n"
          ],
          "name": "stdout"
        }
      ]
    },
    {
      "cell_type": "code",
      "metadata": {
        "id": "xyI31_kFiOvC",
        "colab": {
          "base_uri": "https://localhost:8080/"
        },
        "outputId": "6240f001-b5bd-4e92-d815-963f4bca5644"
      },
      "source": [
        "print('Classification Report')\n",
        "print(classification_report(np_test_labels, predict , labelCon))"
      ],
      "execution_count": 71,
      "outputs": [
        {
          "output_type": "stream",
          "text": [
            "Classification Report\n",
            "              precision    recall  f1-score   support\n",
            "\n",
            "           0       1.00      0.60      0.75        15\n",
            "           1       0.75      1.00      0.86       110\n",
            "           2       1.00      0.54      0.70        13\n",
            "           3       0.94      1.00      0.97        15\n",
            "           4       1.00      0.80      0.89        15\n",
            "           5       1.00      0.91      0.95        11\n",
            "           6       1.00      0.94      0.97        18\n",
            "           7       0.99      1.00      1.00       157\n",
            "           8       1.00      1.00      1.00        27\n",
            "           9       0.91      0.56      0.69        18\n",
            "          10       1.00      0.90      0.95        21\n",
            "          11       0.78      1.00      0.88         7\n",
            "          12       1.00      1.00      1.00        18\n",
            "          13       1.00      0.86      0.92        90\n",
            "          14       1.00      0.95      0.98        43\n",
            "          15       1.00      1.00      1.00         9\n",
            "          16       0.00      0.00      0.00         0\n",
            "          17       0.00      0.00      0.00         0\n",
            "          18       0.00      0.00      0.00         0\n",
            "          19       0.00      0.00      0.00         0\n",
            "          20       0.00      0.00      0.00         0\n",
            "          21       0.00      0.00      0.00         0\n",
            "          22       0.00      0.00      0.00         0\n",
            "          23       0.00      0.00      0.00         0\n",
            "          24       0.00      0.00      0.00         0\n",
            "          25       0.00      0.00      0.00         0\n",
            "          26       0.00      0.00      0.00         0\n",
            "          27       0.00      0.00      0.00         0\n",
            "          28       0.00      0.00      0.00         0\n",
            "          29       0.00      0.00      0.00         0\n",
            "          30       0.00      0.00      0.00         0\n",
            "          31       0.00      0.00      0.00         0\n",
            "          32       0.00      0.00      0.00         0\n",
            "          33       0.00      0.00      0.00         0\n",
            "          34       0.00      0.00      0.00         0\n",
            "          35       0.00      0.00      0.00         0\n",
            "          36       0.00      0.00      0.00         0\n",
            "          37       0.00      0.00      0.00         0\n",
            "          38       0.00      0.00      0.00         0\n",
            "          39       0.00      0.00      0.00         0\n",
            "          40       0.00      0.00      0.00         0\n",
            "          41       0.00      0.00      0.00         0\n",
            "          42       0.00      0.00      0.00         0\n",
            "          43       0.00      0.00      0.00         0\n",
            "          44       0.00      0.00      0.00         0\n",
            "          45       0.00      0.00      0.00         0\n",
            "          46       0.00      0.00      0.00         0\n",
            "          47       0.00      0.00      0.00         0\n",
            "          48       0.00      0.00      0.00         0\n",
            "          49       0.00      0.00      0.00         0\n",
            "          50       0.00      0.00      0.00         0\n",
            "          51       0.00      0.00      0.00         0\n",
            "          52       0.00      0.00      0.00         0\n",
            "          53       0.00      0.00      0.00         0\n",
            "          54       0.00      0.00      0.00         0\n",
            "          55       0.00      0.00      0.00         0\n",
            "          56       0.00      0.00      0.00         0\n",
            "          57       0.00      0.00      0.00         0\n",
            "          58       0.00      0.00      0.00         0\n",
            "          59       0.00      0.00      0.00         0\n",
            "          60       0.00      0.00      0.00         0\n",
            "          61       0.00      0.00      0.00         0\n",
            "\n",
            "   micro avg       0.93      0.93      0.93       587\n",
            "   macro avg       0.25      0.23      0.23       587\n",
            "weighted avg       0.94      0.93      0.93       587\n",
            "\n"
          ],
          "name": "stdout"
        },
        {
          "output_type": "stream",
          "text": [
            "/usr/local/lib/python3.6/dist-packages/sklearn/metrics/_classification.py:1272: UndefinedMetricWarning: Precision and F-score are ill-defined and being set to 0.0 in labels with no predicted samples. Use `zero_division` parameter to control this behavior.\n",
            "  _warn_prf(average, modifier, msg_start, len(result))\n",
            "/usr/local/lib/python3.6/dist-packages/sklearn/metrics/_classification.py:1272: UndefinedMetricWarning: Recall and F-score are ill-defined and being set to 0.0 in labels with no true samples. Use `zero_division` parameter to control this behavior.\n",
            "  _warn_prf(average, modifier, msg_start, len(result))\n"
          ],
          "name": "stderr"
        }
      ]
    },
    {
      "cell_type": "code",
      "metadata": {
        "id": "8ESRg23tpAJ1"
      },
      "source": [
        ""
      ],
      "execution_count": null,
      "outputs": []
    }
  ]
}