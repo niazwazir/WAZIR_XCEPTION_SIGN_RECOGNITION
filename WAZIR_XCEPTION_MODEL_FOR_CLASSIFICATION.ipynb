{
  "nbformat": 4,
  "nbformat_minor": 0,
  "metadata": {
    "colab": {
      "name": "pre-trained.ipynb",
      "provenance": [],
      "collapsed_sections": []
    },
    "kernelspec": {
      "name": "python3",
      "display_name": "Python 3"
    },
    "accelerator": "GPU"
  },
  "cells": [
    {
      "cell_type": "code",
      "metadata": {
        "id": "kPjq-8l4qnT7",
        "outputId": "16cca00c-a4c8-4202-e4e0-6f1f57ab5fb7",
        "colab": {
          "base_uri": "https://localhost:8080/"
        }
      },
      "source": [
        "!git clone https://github.com/niazwazir/WAZIR_XCEPTION_SIGN_RECOGNITION.git"
      ],
      "execution_count": 1,
      "outputs": [
        {
          "output_type": "stream",
          "text": [
            "Cloning into 'WAZIR_XCEPTION_SIGN_RECOGNITION'...\n",
            "remote: Enumerating objects: 6, done.\u001b[K\n",
            "remote: Counting objects: 100% (6/6), done.\u001b[K\n",
            "remote: Compressing objects: 100% (5/5), done.\u001b[K\n",
            "remote: Total 6 (delta 0), reused 0 (delta 0), pack-reused 0\u001b[K\n",
            "Unpacking objects: 100% (6/6), done.\n"
          ],
          "name": "stdout"
        }
      ]
    },
    {
      "cell_type": "code",
      "metadata": {
        "id": "GZAbCbtoqsnU",
        "outputId": "1a9644e8-a603-4703-8cfc-42570a94c8ae",
        "colab": {
          "base_uri": "https://localhost:8080/"
        }
      },
      "source": [
        "cd WAZIR_XCEPTION_SIGN_RECOGNITION/"
      ],
      "execution_count": 2,
      "outputs": [
        {
          "output_type": "stream",
          "text": [
            "/content/WAZIR_XCEPTION_SIGN_RECOGNITION\n"
          ],
          "name": "stdout"
        }
      ]
    },
    {
      "cell_type": "code",
      "metadata": {
        "id": "KRUwrkrwq0zL",
        "outputId": "0e23c560-59d5-416a-c2f1-c0f1c3f763ec",
        "colab": {
          "base_uri": "https://localhost:8080/"
        }
      },
      "source": [
        "!ls"
      ],
      "execution_count": 3,
      "outputs": [
        {
          "output_type": "stream",
          "text": [
            "WazirData.zip  WAZIR_XCEPTION_PRETRAINED_CLASSIFICATION.ipynb\n"
          ],
          "name": "stdout"
        }
      ]
    },
    {
      "cell_type": "code",
      "metadata": {
        "id": "_8bLQDzAqyKi",
        "outputId": "9b45a2a8-5fd0-45e9-9628-9b98251ef0bf",
        "colab": {
          "base_uri": "https://localhost:8080/"
        }
      },
      "source": [
        "!unzip WazirData.zip"
      ],
      "execution_count": 4,
      "outputs": [
        {
          "output_type": "stream",
          "text": [
            "Archive:  WazirData.zip\n",
            "   creating: WazirData/Testing/\n",
            "   creating: WazirData/Testing/00000/\n",
            "  inflating: WazirData/Testing/00000/01153_00000.ppm  \n",
            "  inflating: WazirData/Testing/00000/01153_00001.ppm  \n",
            "  inflating: WazirData/Testing/00000/01153_00002.ppm  \n",
            "  inflating: WazirData/Testing/00000/01160_00000.ppm  \n",
            "  inflating: WazirData/Testing/00000/01160_00001.ppm  \n",
            "  inflating: WazirData/Testing/00000/01160_00002.ppm  \n",
            "  inflating: WazirData/Testing/00000/01797_00000.ppm  \n",
            "  inflating: WazirData/Testing/00000/01797_00001.ppm  \n",
            "  inflating: WazirData/Testing/00000/01797_00002.ppm  \n",
            "  inflating: WazirData/Testing/00000/01798_00000.ppm  \n",
            "  inflating: WazirData/Testing/00000/01798_00001.ppm  \n",
            "  inflating: WazirData/Testing/00000/01798_00002.ppm  \n",
            "  inflating: WazirData/Testing/00000/01799_00000.ppm  \n",
            "  inflating: WazirData/Testing/00000/01799_00001.ppm  \n",
            "  inflating: WazirData/Testing/00000/01799_00002.ppm  \n",
            "  inflating: WazirData/Testing/00000/GT-00000.csv  \n",
            "   creating: WazirData/Testing/00001/\n",
            "  inflating: WazirData/Testing/00001/00025_00000.ppm  \n",
            "  inflating: WazirData/Testing/00001/00025_00001.ppm  \n",
            "  inflating: WazirData/Testing/00001/00025_00002.ppm  \n",
            "  inflating: WazirData/Testing/00001/00029_00000.ppm  \n",
            "  inflating: WazirData/Testing/00001/00029_00001.ppm  \n",
            "  inflating: WazirData/Testing/00001/00029_00002.ppm  \n",
            "  inflating: WazirData/Testing/00001/00079_00000.ppm  \n",
            "  inflating: WazirData/Testing/00001/00079_00001.ppm  \n",
            "  inflating: WazirData/Testing/00001/00079_00002.ppm  \n",
            "  inflating: WazirData/Testing/00001/00136_00000.ppm  \n",
            "  inflating: WazirData/Testing/00001/00136_00001.ppm  \n",
            "  inflating: WazirData/Testing/00001/00136_00002.ppm  \n",
            "  inflating: WazirData/Testing/00001/00143_00000.ppm  \n",
            "  inflating: WazirData/Testing/00001/00143_00001.ppm  \n",
            "  inflating: WazirData/Testing/00001/00143_00002.ppm  \n",
            "  inflating: WazirData/Testing/00001/00455_00000.ppm  \n",
            "  inflating: WazirData/Testing/00001/00455_00001.ppm  \n",
            "  inflating: WazirData/Testing/00001/00455_00002.ppm  \n",
            "  inflating: WazirData/Testing/00001/00468_00000.ppm  \n",
            "  inflating: WazirData/Testing/00001/00468_00001.ppm  \n",
            "  inflating: WazirData/Testing/00001/00468_00002.ppm  \n",
            "  inflating: WazirData/Testing/00001/00475_00000.ppm  \n",
            "  inflating: WazirData/Testing/00001/00475_00001.ppm  \n",
            "  inflating: WazirData/Testing/00001/00475_00002.ppm  \n",
            "  inflating: WazirData/Testing/00001/00801_00000.ppm  \n",
            "  inflating: WazirData/Testing/00001/00801_00001.ppm  \n",
            "  inflating: WazirData/Testing/00001/00801_00002.ppm  \n",
            "  inflating: WazirData/Testing/00001/00806_00000.ppm  \n",
            "  inflating: WazirData/Testing/00001/00806_00001.ppm  \n",
            "  inflating: WazirData/Testing/00001/00806_00002.ppm  \n",
            "  inflating: WazirData/Testing/00001/00874_00000.ppm  \n",
            "  inflating: WazirData/Testing/00001/00874_00001.ppm  \n",
            "  inflating: WazirData/Testing/00001/00874_00002.ppm  \n",
            "  inflating: WazirData/Testing/00001/00876_00000.ppm  \n",
            "  inflating: WazirData/Testing/00001/00876_00001.ppm  \n",
            "  inflating: WazirData/Testing/00001/00876_00002.ppm  \n",
            "  inflating: WazirData/Testing/00001/00877_00000.ppm  \n",
            "  inflating: WazirData/Testing/00001/00877_00001.ppm  \n",
            "  inflating: WazirData/Testing/00001/00877_00002.ppm  \n",
            "  inflating: WazirData/Testing/00001/00881_00000.ppm  \n",
            "  inflating: WazirData/Testing/00001/00881_00001.ppm  \n",
            "  inflating: WazirData/Testing/00001/00881_00002.ppm  \n",
            "  inflating: WazirData/Testing/00001/00897_00000.ppm  \n",
            "  inflating: WazirData/Testing/00001/00897_00001.ppm  \n",
            "  inflating: WazirData/Testing/00001/00897_00002.ppm  \n",
            "  inflating: WazirData/Testing/00001/00900_00000.ppm  \n",
            "  inflating: WazirData/Testing/00001/00900_00001.ppm  \n",
            "  inflating: WazirData/Testing/00001/00900_00002.ppm  \n",
            "  inflating: WazirData/Testing/00001/00920_00000.ppm  \n",
            "  inflating: WazirData/Testing/00001/00920_00001.ppm  \n",
            "  inflating: WazirData/Testing/00001/00920_00002.ppm  \n",
            "  inflating: WazirData/Testing/00001/00921_00000.ppm  \n",
            "  inflating: WazirData/Testing/00001/00921_00001.ppm  \n",
            "  inflating: WazirData/Testing/00001/00933_00000.ppm  \n",
            "  inflating: WazirData/Testing/00001/00933_00001.ppm  \n",
            "  inflating: WazirData/Testing/00001/00933_00002.ppm  \n",
            "  inflating: WazirData/Testing/00001/00941_00000.ppm  \n",
            "  inflating: WazirData/Testing/00001/00941_00001.ppm  \n",
            "  inflating: WazirData/Testing/00001/00941_00002.ppm  \n",
            "  inflating: WazirData/Testing/00001/00947_00000.ppm  \n",
            "  inflating: WazirData/Testing/00001/00947_00001.ppm  \n",
            "  inflating: WazirData/Testing/00001/00947_00002.ppm  \n",
            "  inflating: WazirData/Testing/00001/00965_00000.ppm  \n",
            "  inflating: WazirData/Testing/00001/00965_00001.ppm  \n",
            "  inflating: WazirData/Testing/00001/00965_00002.ppm  \n",
            "  inflating: WazirData/Testing/00001/01028_00000.ppm  \n",
            "  inflating: WazirData/Testing/00001/01028_00001.ppm  \n",
            "  inflating: WazirData/Testing/00001/01028_00002.ppm  \n",
            "  inflating: WazirData/Testing/00001/01103_00000.ppm  \n",
            "  inflating: WazirData/Testing/00001/01103_00001.ppm  \n",
            "  inflating: WazirData/Testing/00001/01103_00002.ppm  \n",
            "  inflating: WazirData/Testing/00001/01114_00000.ppm  \n",
            "  inflating: WazirData/Testing/00001/01114_00001.ppm  \n",
            "  inflating: WazirData/Testing/00001/01114_00002.ppm  \n",
            "  inflating: WazirData/Testing/00001/01278_00000.ppm  \n",
            "  inflating: WazirData/Testing/00001/01278_00001.ppm  \n",
            "  inflating: WazirData/Testing/00001/01278_00002.ppm  \n",
            "  inflating: WazirData/Testing/00001/01556_00000.ppm  \n",
            "  inflating: WazirData/Testing/00001/01556_00001.ppm  \n",
            "  inflating: WazirData/Testing/00001/01556_00002.ppm  \n",
            "  inflating: WazirData/Testing/00001/01584_00000.ppm  \n",
            "  inflating: WazirData/Testing/00001/01584_00001.ppm  \n",
            "  inflating: WazirData/Testing/00001/01584_00002.ppm  \n",
            "  inflating: WazirData/Testing/00001/01585_00000.ppm  \n",
            "  inflating: WazirData/Testing/00001/01585_00001.ppm  \n",
            "  inflating: WazirData/Testing/00001/01585_00002.ppm  \n",
            "  inflating: WazirData/Testing/00001/01590_00000.ppm  \n",
            "  inflating: WazirData/Testing/00001/01590_00001.ppm  \n",
            "  inflating: WazirData/Testing/00001/01590_00002.ppm  \n",
            "  inflating: WazirData/Testing/00001/01651_00000.ppm  \n",
            "  inflating: WazirData/Testing/00001/01651_00001.ppm  \n",
            "  inflating: WazirData/Testing/00001/01651_00002.ppm  \n",
            "  inflating: WazirData/Testing/00001/01662_00000.ppm  \n",
            "  inflating: WazirData/Testing/00001/01662_00001.ppm  \n",
            "  inflating: WazirData/Testing/00001/01662_00002.ppm  \n",
            "  inflating: WazirData/Testing/00001/01681_00000.ppm  \n",
            "  inflating: WazirData/Testing/00001/01681_00001.ppm  \n",
            "  inflating: WazirData/Testing/00001/01681_00002.ppm  \n",
            "  inflating: WazirData/Testing/00001/01699_00000.ppm  \n",
            "  inflating: WazirData/Testing/00001/01699_00001.ppm  \n",
            "  inflating: WazirData/Testing/00001/01699_00002.ppm  \n",
            "  inflating: WazirData/Testing/00001/01850_00000.ppm  \n",
            "  inflating: WazirData/Testing/00001/01850_00001.ppm  \n",
            "  inflating: WazirData/Testing/00001/01850_00002.ppm  \n",
            "  inflating: WazirData/Testing/00001/01854_00000.ppm  \n",
            "  inflating: WazirData/Testing/00001/01854_00001.ppm  \n",
            "  inflating: WazirData/Testing/00001/01854_00002.ppm  \n",
            "  inflating: WazirData/Testing/00001/01971_00000.ppm  \n",
            "  inflating: WazirData/Testing/00001/01971_00001.ppm  \n",
            "  inflating: WazirData/Testing/00001/01971_00002.ppm  \n",
            "  inflating: WazirData/Testing/00001/GT-00001.csv  \n",
            "   creating: WazirData/Testing/00002/\n",
            "  inflating: WazirData/Testing/00002/00270_00000.ppm  \n",
            "  inflating: WazirData/Testing/00002/00270_00001.ppm  \n",
            "  inflating: WazirData/Testing/00002/00270_00002.ppm  \n",
            "  inflating: WazirData/Testing/00002/01320_00000.ppm  \n",
            "  inflating: WazirData/Testing/00002/01503_00000.ppm  \n",
            "  inflating: WazirData/Testing/00002/01503_00001.ppm  \n",
            "  inflating: WazirData/Testing/00002/01503_00002.ppm  \n",
            "  inflating: WazirData/Testing/00002/01515_00000.ppm  \n",
            "  inflating: WazirData/Testing/00002/01515_00001.ppm  \n",
            "  inflating: WazirData/Testing/00002/01515_00002.ppm  \n",
            "  inflating: WazirData/Testing/00002/01722_00000.ppm  \n",
            "  inflating: WazirData/Testing/00002/01722_00001.ppm  \n",
            "  inflating: WazirData/Testing/00002/01722_00002.ppm  \n",
            "  inflating: WazirData/Testing/00002/GT-00002.csv  \n",
            "   creating: WazirData/Testing/00003/\n",
            "  inflating: WazirData/Testing/00003/00207_00000.ppm  \n",
            "  inflating: WazirData/Testing/00003/00207_00001.ppm  \n",
            "  inflating: WazirData/Testing/00003/00207_00002.ppm  \n",
            "  inflating: WazirData/Testing/00003/00211_00000.ppm  \n",
            "  inflating: WazirData/Testing/00003/00211_00001.ppm  \n",
            "  inflating: WazirData/Testing/00003/00211_00002.ppm  \n",
            "  inflating: WazirData/Testing/00003/00259_00000.ppm  \n",
            "  inflating: WazirData/Testing/00003/00259_00001.ppm  \n",
            "  inflating: WazirData/Testing/00003/00259_00002.ppm  \n",
            "  inflating: WazirData/Testing/00003/00391_00000.ppm  \n",
            "  inflating: WazirData/Testing/00003/00391_00001.ppm  \n",
            "  inflating: WazirData/Testing/00003/00391_00002.ppm  \n",
            "  inflating: WazirData/Testing/00003/01291_00000.ppm  \n",
            "  inflating: WazirData/Testing/00003/01291_00001.ppm  \n",
            "  inflating: WazirData/Testing/00003/01291_00002.ppm  \n",
            "  inflating: WazirData/Testing/00003/GT-00003.csv  \n",
            "   creating: WazirData/Training/\n",
            "   creating: WazirData/Training/00000/\n",
            "  inflating: WazirData/Training/00000/01153_00000.ppm  \n",
            "  inflating: WazirData/Training/00000/01153_00001.ppm  \n",
            "  inflating: WazirData/Training/00000/01153_00002.ppm  \n",
            "  inflating: WazirData/Training/00000/01160_00000.ppm  \n",
            "  inflating: WazirData/Training/00000/01160_00001.ppm  \n",
            "  inflating: WazirData/Training/00000/01160_00002.ppm  \n",
            "  inflating: WazirData/Training/00000/01797_00000.ppm  \n",
            "  inflating: WazirData/Training/00000/01797_00001.ppm  \n",
            "  inflating: WazirData/Training/00000/01797_00002.ppm  \n",
            "  inflating: WazirData/Training/00000/01798_00000.ppm  \n",
            "  inflating: WazirData/Training/00000/01798_00001.ppm  \n",
            "  inflating: WazirData/Training/00000/01798_00002.ppm  \n",
            "  inflating: WazirData/Training/00000/01799_00000.ppm  \n",
            "  inflating: WazirData/Training/00000/01799_00001.ppm  \n",
            "  inflating: WazirData/Training/00000/01799_00002.ppm  \n",
            "  inflating: WazirData/Training/00000/GT-00000.csv  \n",
            "   creating: WazirData/Training/00001/\n",
            "  inflating: WazirData/Training/00001/00025_00000.ppm  \n",
            "  inflating: WazirData/Training/00001/00025_00001.ppm  \n",
            "  inflating: WazirData/Training/00001/00025_00002.ppm  \n",
            "  inflating: WazirData/Training/00001/00029_00000.ppm  \n",
            "  inflating: WazirData/Training/00001/00029_00001.ppm  \n",
            "  inflating: WazirData/Training/00001/00029_00002.ppm  \n",
            "  inflating: WazirData/Training/00001/00079_00000.ppm  \n",
            "  inflating: WazirData/Training/00001/00079_00001.ppm  \n",
            "  inflating: WazirData/Training/00001/00079_00002.ppm  \n",
            "  inflating: WazirData/Training/00001/00136_00000.ppm  \n",
            "  inflating: WazirData/Training/00001/00136_00001.ppm  \n",
            "  inflating: WazirData/Training/00001/00136_00002.ppm  \n",
            "  inflating: WazirData/Training/00001/00143_00000.ppm  \n",
            "  inflating: WazirData/Training/00001/00143_00001.ppm  \n",
            "  inflating: WazirData/Training/00001/00143_00002.ppm  \n",
            "  inflating: WazirData/Training/00001/00455_00000.ppm  \n",
            "  inflating: WazirData/Training/00001/00455_00001.ppm  \n",
            "  inflating: WazirData/Training/00001/00455_00002.ppm  \n",
            "  inflating: WazirData/Training/00001/00468_00000.ppm  \n",
            "  inflating: WazirData/Training/00001/00468_00001.ppm  \n",
            "  inflating: WazirData/Training/00001/00468_00002.ppm  \n",
            "  inflating: WazirData/Training/00001/00475_00000.ppm  \n",
            "  inflating: WazirData/Training/00001/00475_00001.ppm  \n",
            "  inflating: WazirData/Training/00001/00475_00002.ppm  \n",
            "  inflating: WazirData/Training/00001/00801_00000.ppm  \n",
            "  inflating: WazirData/Training/00001/00801_00001.ppm  \n",
            "  inflating: WazirData/Training/00001/00801_00002.ppm  \n",
            "  inflating: WazirData/Training/00001/00806_00000.ppm  \n",
            "  inflating: WazirData/Training/00001/00806_00001.ppm  \n",
            "  inflating: WazirData/Training/00001/00806_00002.ppm  \n",
            "  inflating: WazirData/Training/00001/00874_00000.ppm  \n",
            "  inflating: WazirData/Training/00001/00874_00001.ppm  \n",
            "  inflating: WazirData/Training/00001/00874_00002.ppm  \n",
            "  inflating: WazirData/Training/00001/00876_00000.ppm  \n",
            "  inflating: WazirData/Training/00001/00876_00001.ppm  \n",
            "  inflating: WazirData/Training/00001/00876_00002.ppm  \n",
            "  inflating: WazirData/Training/00001/00877_00000.ppm  \n",
            "  inflating: WazirData/Training/00001/00877_00001.ppm  \n",
            "  inflating: WazirData/Training/00001/00877_00002.ppm  \n",
            "  inflating: WazirData/Training/00001/00881_00000.ppm  \n",
            "  inflating: WazirData/Training/00001/00881_00001.ppm  \n",
            "  inflating: WazirData/Training/00001/00881_00002.ppm  \n",
            "  inflating: WazirData/Training/00001/00897_00000.ppm  \n",
            "  inflating: WazirData/Training/00001/00897_00001.ppm  \n",
            "  inflating: WazirData/Training/00001/00897_00002.ppm  \n",
            "  inflating: WazirData/Training/00001/00900_00000.ppm  \n",
            "  inflating: WazirData/Training/00001/00900_00001.ppm  \n",
            "  inflating: WazirData/Training/00001/00900_00002.ppm  \n",
            "  inflating: WazirData/Training/00001/00920_00000.ppm  \n",
            "  inflating: WazirData/Training/00001/00920_00001.ppm  \n",
            "  inflating: WazirData/Training/00001/00920_00002.ppm  \n",
            "  inflating: WazirData/Training/00001/00921_00000.ppm  \n",
            "  inflating: WazirData/Training/00001/00921_00001.ppm  \n",
            "  inflating: WazirData/Training/00001/00933_00000.ppm  \n",
            "  inflating: WazirData/Training/00001/00933_00001.ppm  \n",
            "  inflating: WazirData/Training/00001/00933_00002.ppm  \n",
            "  inflating: WazirData/Training/00001/00941_00000.ppm  \n",
            "  inflating: WazirData/Training/00001/00941_00001.ppm  \n",
            "  inflating: WazirData/Training/00001/00941_00002.ppm  \n",
            "  inflating: WazirData/Training/00001/00947_00000.ppm  \n",
            "  inflating: WazirData/Training/00001/00947_00001.ppm  \n",
            "  inflating: WazirData/Training/00001/00947_00002.ppm  \n",
            "  inflating: WazirData/Training/00001/00965_00000.ppm  \n",
            "  inflating: WazirData/Training/00001/00965_00001.ppm  \n",
            "  inflating: WazirData/Training/00001/00965_00002.ppm  \n",
            "  inflating: WazirData/Training/00001/01028_00000.ppm  \n",
            "  inflating: WazirData/Training/00001/01028_00001.ppm  \n",
            "  inflating: WazirData/Training/00001/01028_00002.ppm  \n",
            "  inflating: WazirData/Training/00001/01103_00000.ppm  \n",
            "  inflating: WazirData/Training/00001/01103_00001.ppm  \n",
            "  inflating: WazirData/Training/00001/01103_00002.ppm  \n",
            "  inflating: WazirData/Training/00001/01114_00000.ppm  \n",
            "  inflating: WazirData/Training/00001/01114_00001.ppm  \n",
            "  inflating: WazirData/Training/00001/01114_00002.ppm  \n",
            "  inflating: WazirData/Training/00001/01278_00000.ppm  \n",
            "  inflating: WazirData/Training/00001/01278_00001.ppm  \n",
            "  inflating: WazirData/Training/00001/01278_00002.ppm  \n",
            "  inflating: WazirData/Training/00001/01556_00000.ppm  \n",
            "  inflating: WazirData/Training/00001/01556_00001.ppm  \n",
            "  inflating: WazirData/Training/00001/01556_00002.ppm  \n",
            "  inflating: WazirData/Training/00001/01584_00000.ppm  \n",
            "  inflating: WazirData/Training/00001/01584_00001.ppm  \n",
            "  inflating: WazirData/Training/00001/01584_00002.ppm  \n",
            "  inflating: WazirData/Training/00001/01585_00000.ppm  \n",
            "  inflating: WazirData/Training/00001/01585_00001.ppm  \n",
            "  inflating: WazirData/Training/00001/01585_00002.ppm  \n",
            "  inflating: WazirData/Training/00001/01590_00000.ppm  \n",
            "  inflating: WazirData/Training/00001/01590_00001.ppm  \n",
            "  inflating: WazirData/Training/00001/01590_00002.ppm  \n",
            "  inflating: WazirData/Training/00001/01651_00000.ppm  \n",
            "  inflating: WazirData/Training/00001/01651_00001.ppm  \n",
            "  inflating: WazirData/Training/00001/01651_00002.ppm  \n",
            "  inflating: WazirData/Training/00001/01662_00000.ppm  \n",
            "  inflating: WazirData/Training/00001/01662_00001.ppm  \n",
            "  inflating: WazirData/Training/00001/01662_00002.ppm  \n",
            "  inflating: WazirData/Training/00001/01681_00000.ppm  \n",
            "  inflating: WazirData/Training/00001/01681_00001.ppm  \n",
            "  inflating: WazirData/Training/00001/01681_00002.ppm  \n",
            "  inflating: WazirData/Training/00001/01699_00000.ppm  \n",
            "  inflating: WazirData/Training/00001/01699_00001.ppm  \n",
            "  inflating: WazirData/Training/00001/01699_00002.ppm  \n",
            "  inflating: WazirData/Training/00001/01850_00000.ppm  \n",
            "  inflating: WazirData/Training/00001/01850_00001.ppm  \n",
            "  inflating: WazirData/Training/00001/01850_00002.ppm  \n",
            "  inflating: WazirData/Training/00001/01854_00000.ppm  \n",
            "  inflating: WazirData/Training/00001/01854_00001.ppm  \n",
            "  inflating: WazirData/Training/00001/01854_00002.ppm  \n",
            "  inflating: WazirData/Training/00001/01971_00000.ppm  \n",
            "  inflating: WazirData/Training/00001/01971_00001.ppm  \n",
            "  inflating: WazirData/Training/00001/01971_00002.ppm  \n",
            "  inflating: WazirData/Training/00001/GT-00001.csv  \n",
            "   creating: WazirData/Training/00002/\n",
            "  inflating: WazirData/Training/00002/00270_00000.ppm  \n",
            "  inflating: WazirData/Training/00002/00270_00001.ppm  \n",
            "  inflating: WazirData/Training/00002/00270_00002.ppm  \n",
            "  inflating: WazirData/Training/00002/01320_00000.ppm  \n",
            "  inflating: WazirData/Training/00002/01503_00000.ppm  \n",
            "  inflating: WazirData/Training/00002/01503_00001.ppm  \n",
            "  inflating: WazirData/Training/00002/01503_00002.ppm  \n",
            "  inflating: WazirData/Training/00002/01515_00000.ppm  \n",
            "  inflating: WazirData/Training/00002/01515_00001.ppm  \n",
            "  inflating: WazirData/Training/00002/01515_00002.ppm  \n",
            "  inflating: WazirData/Training/00002/01722_00000.ppm  \n",
            "  inflating: WazirData/Training/00002/01722_00001.ppm  \n",
            "  inflating: WazirData/Training/00002/01722_00002.ppm  \n",
            "  inflating: WazirData/Training/00002/GT-00002.csv  \n",
            "   creating: WazirData/Training/00003/\n",
            "  inflating: WazirData/Training/00003/00207_00000.ppm  \n",
            "  inflating: WazirData/Training/00003/00207_00001.ppm  \n",
            "  inflating: WazirData/Training/00003/00207_00002.ppm  \n",
            "  inflating: WazirData/Training/00003/00211_00000.ppm  \n",
            "  inflating: WazirData/Training/00003/00211_00001.ppm  \n",
            "  inflating: WazirData/Training/00003/00211_00002.ppm  \n",
            "  inflating: WazirData/Training/00003/00259_00000.ppm  \n",
            "  inflating: WazirData/Training/00003/00259_00001.ppm  \n",
            "  inflating: WazirData/Training/00003/00259_00002.ppm  \n",
            "  inflating: WazirData/Training/00003/00391_00000.ppm  \n",
            "  inflating: WazirData/Training/00003/00391_00001.ppm  \n",
            "  inflating: WazirData/Training/00003/00391_00002.ppm  \n",
            "  inflating: WazirData/Training/00003/01291_00000.ppm  \n",
            "  inflating: WazirData/Training/00003/01291_00001.ppm  \n",
            "  inflating: WazirData/Training/00003/01291_00002.ppm  \n",
            "  inflating: WazirData/Training/00003/GT-00003.csv  \n",
            "   creating: WazirData/Training/00004/\n",
            "  inflating: WazirData/Training/00004/00145_00000.ppm  \n",
            "  inflating: WazirData/Training/00004/00145_00001.ppm  \n",
            "  inflating: WazirData/Training/00004/00145_00002.ppm  \n",
            "  inflating: WazirData/Training/00004/00214_00000.ppm  \n",
            "  inflating: WazirData/Training/00004/00214_00001.ppm  \n",
            "  inflating: WazirData/Training/00004/00214_00002.ppm  \n",
            "  inflating: WazirData/Training/00004/00282_00000.ppm  \n",
            "  inflating: WazirData/Training/00004/00282_00001.ppm  \n",
            "  inflating: WazirData/Training/00004/00282_00002.ppm  \n",
            "  inflating: WazirData/Training/00004/00623_00000.ppm  \n",
            "  inflating: WazirData/Training/00004/00623_00001.ppm  \n",
            "  inflating: WazirData/Training/00004/00623_00002.ppm  \n",
            "  inflating: WazirData/Training/00004/01312_00000.ppm  \n",
            "  inflating: WazirData/Training/00004/01312_00001.ppm  \n",
            "  inflating: WazirData/Training/00004/01312_00002.ppm  \n",
            "  inflating: WazirData/Training/00004/GT-00004.csv  \n",
            "   creating: WazirData/Training/00005/\n",
            "  inflating: WazirData/Training/00005/00261_00000.ppm  \n",
            "  inflating: WazirData/Training/00005/00261_00001.ppm  \n",
            "  inflating: WazirData/Training/00005/00390_00000.ppm  \n",
            "  inflating: WazirData/Training/00005/00390_00001.ppm  \n",
            "  inflating: WazirData/Training/00005/00390_00002.ppm  \n",
            "  inflating: WazirData/Training/00005/00575_00000.ppm  \n",
            "  inflating: WazirData/Training/00005/00575_00001.ppm  \n",
            "  inflating: WazirData/Training/00005/00575_00002.ppm  \n",
            "  inflating: WazirData/Training/00005/01893_00000.ppm  \n",
            "  inflating: WazirData/Training/00005/01893_00001.ppm  \n",
            "  inflating: WazirData/Training/00005/01893_00002.ppm  \n",
            "  inflating: WazirData/Training/00005/GT-00005.csv  \n",
            "   creating: WazirData/Training/00006/\n",
            "  inflating: WazirData/Training/00006/00147_00000.ppm  \n",
            "  inflating: WazirData/Training/00006/00147_00001.ppm  \n",
            "  inflating: WazirData/Training/00006/00147_00002.ppm  \n",
            "  inflating: WazirData/Training/00006/00215_00000.ppm  \n",
            "  inflating: WazirData/Training/00006/00215_00001.ppm  \n",
            "  inflating: WazirData/Training/00006/00215_00002.ppm  \n",
            "  inflating: WazirData/Training/00006/00220_00000.ppm  \n",
            "  inflating: WazirData/Training/00006/00220_00001.ppm  \n",
            "  inflating: WazirData/Training/00006/00220_00002.ppm  \n",
            "  inflating: WazirData/Training/00006/00221_00000.ppm  \n",
            "  inflating: WazirData/Training/00006/00221_00001.ppm  \n",
            "  inflating: WazirData/Training/00006/00221_00002.ppm  \n",
            "  inflating: WazirData/Training/00006/00326_00000.ppm  \n",
            "  inflating: WazirData/Training/00006/00326_00001.ppm  \n",
            "  inflating: WazirData/Training/00006/00326_00002.ppm  \n",
            "  inflating: WazirData/Training/00006/00327_00000.ppm  \n",
            "  inflating: WazirData/Training/00006/00327_00001.ppm  \n",
            "  inflating: WazirData/Training/00006/00327_00002.ppm  \n",
            "  inflating: WazirData/Training/00006/GT-00006.csv  \n",
            "   creating: WazirData/Training/00007/\n",
            "  inflating: WazirData/Training/00007/00014_00000.ppm  \n",
            "  inflating: WazirData/Training/00007/00014_00001.ppm  \n",
            "  inflating: WazirData/Training/00007/00014_00002.ppm  \n",
            "  inflating: WazirData/Training/00007/00051_00000.ppm  \n",
            "  inflating: WazirData/Training/00007/00051_00001.ppm  \n",
            "  inflating: WazirData/Training/00007/00051_00002.ppm  \n",
            "  inflating: WazirData/Training/00007/00057_00000.ppm  \n",
            "  inflating: WazirData/Training/00007/00057_00001.ppm  \n",
            "  inflating: WazirData/Training/00007/00057_00002.ppm  \n",
            "  inflating: WazirData/Training/00007/00068_00000.ppm  \n",
            "  inflating: WazirData/Training/00007/00068_00001.ppm  \n",
            "  inflating: WazirData/Training/00007/00068_00002.ppm  \n",
            "  inflating: WazirData/Training/00007/00132_00000.ppm  \n",
            "  inflating: WazirData/Training/00007/00132_00001.ppm  \n",
            "  inflating: WazirData/Training/00007/00132_00002.ppm  \n",
            "  inflating: WazirData/Training/00007/00259_00000.ppm  \n",
            "  inflating: WazirData/Training/00007/00259_00001.ppm  \n",
            "  inflating: WazirData/Training/00007/00259_00002.ppm  \n",
            "  inflating: WazirData/Training/00007/00295_00000.ppm  \n",
            "  inflating: WazirData/Training/00007/00295_00001.ppm  \n",
            "  inflating: WazirData/Training/00007/00299_00000.ppm  \n",
            "  inflating: WazirData/Training/00007/00299_00001.ppm  \n",
            "  inflating: WazirData/Training/00007/00299_00002.ppm  \n",
            "  inflating: WazirData/Training/00007/00305_00000.ppm  \n",
            "  inflating: WazirData/Training/00007/00305_00001.ppm  \n",
            "  inflating: WazirData/Training/00007/00305_00002.ppm  \n",
            "  inflating: WazirData/Training/00007/00614_00000.ppm  \n",
            "  inflating: WazirData/Training/00007/00614_00001.ppm  \n",
            "  inflating: WazirData/Training/00007/00614_00002.ppm  \n",
            "  inflating: WazirData/Training/00007/00618_00000.ppm  \n",
            "  inflating: WazirData/Training/00007/00618_00001.ppm  \n",
            "  inflating: WazirData/Training/00007/00618_00002.ppm  \n",
            "  inflating: WazirData/Training/00007/00689_00000.ppm  \n",
            "  inflating: WazirData/Training/00007/00689_00001.ppm  \n",
            "  inflating: WazirData/Training/00007/00689_00002.ppm  \n",
            "  inflating: WazirData/Training/00007/00689_00003.ppm  \n",
            "  inflating: WazirData/Training/00007/00719_00000.ppm  \n",
            "  inflating: WazirData/Training/00007/00719_00001.ppm  \n",
            "  inflating: WazirData/Training/00007/00719_00002.ppm  \n",
            "  inflating: WazirData/Training/00007/00736_00000.ppm  \n",
            "  inflating: WazirData/Training/00007/00736_00001.ppm  \n",
            "  inflating: WazirData/Training/00007/00736_00002.ppm  \n",
            "  inflating: WazirData/Training/00007/00748_00000.ppm  \n",
            "  inflating: WazirData/Training/00007/00748_00001.ppm  \n",
            "  inflating: WazirData/Training/00007/00769_00000.ppm  \n",
            "  inflating: WazirData/Training/00007/00769_00001.ppm  \n",
            "  inflating: WazirData/Training/00007/00769_00002.ppm  \n",
            "  inflating: WazirData/Training/00007/00770_00000.ppm  \n",
            "  inflating: WazirData/Training/00007/00770_00001.ppm  \n",
            "  inflating: WazirData/Training/00007/00770_00002.ppm  \n",
            "  inflating: WazirData/Training/00007/00781_00000.ppm  \n",
            "  inflating: WazirData/Training/00007/00781_00001.ppm  \n",
            "  inflating: WazirData/Training/00007/00781_00002.ppm  \n",
            "  inflating: WazirData/Training/00007/00987_00000.ppm  \n",
            "  inflating: WazirData/Training/00007/00987_00001.ppm  \n",
            "  inflating: WazirData/Training/00007/00987_00002.ppm  \n",
            "  inflating: WazirData/Training/00007/00992_00000.ppm  \n",
            "  inflating: WazirData/Training/00007/00992_00001.ppm  \n",
            "  inflating: WazirData/Training/00007/00992_00002.ppm  \n",
            "  inflating: WazirData/Training/00007/01017_00000.ppm  \n",
            "  inflating: WazirData/Training/00007/01017_00001.ppm  \n",
            "  inflating: WazirData/Training/00007/01017_00002.ppm  \n",
            "  inflating: WazirData/Training/00007/01061_00000.ppm  \n",
            "  inflating: WazirData/Training/00007/01061_00001.ppm  \n",
            "  inflating: WazirData/Training/00007/01061_00002.ppm  \n",
            "  inflating: WazirData/Training/00007/01061_00003.ppm  \n",
            "  inflating: WazirData/Training/00007/01062_00000.ppm  \n",
            "  inflating: WazirData/Training/00007/01062_00001.ppm  \n",
            "  inflating: WazirData/Training/00007/01062_00002.ppm  \n",
            "  inflating: WazirData/Training/00007/01077_00000.ppm  \n",
            "  inflating: WazirData/Training/00007/01077_00001.ppm  \n",
            "  inflating: WazirData/Training/00007/01077_00002.ppm  \n",
            "  inflating: WazirData/Training/00007/01080_00000.ppm  \n",
            "  inflating: WazirData/Training/00007/01080_00001.ppm  \n",
            "  inflating: WazirData/Training/00007/01080_00002.ppm  \n",
            "  inflating: WazirData/Training/00007/01081_00000.ppm  \n",
            "  inflating: WazirData/Training/00007/01081_00001.ppm  \n",
            "  inflating: WazirData/Training/00007/01081_00002.ppm  \n",
            "  inflating: WazirData/Training/00007/01138_00000.ppm  \n",
            "  inflating: WazirData/Training/00007/01138_00001.ppm  \n",
            "  inflating: WazirData/Training/00007/01138_00002.ppm  \n",
            "  inflating: WazirData/Training/00007/01139_00000.ppm  \n",
            "  inflating: WazirData/Training/00007/01139_00001.ppm  \n",
            "  inflating: WazirData/Training/00007/01139_00002.ppm  \n",
            "  inflating: WazirData/Training/00007/01152_00000.ppm  \n",
            "  inflating: WazirData/Training/00007/01152_00001.ppm  \n",
            "  inflating: WazirData/Training/00007/01152_00002.ppm  \n",
            "  inflating: WazirData/Training/00007/01159_00000.ppm  \n",
            "  inflating: WazirData/Training/00007/01159_00001.ppm  \n",
            "  inflating: WazirData/Training/00007/01159_00002.ppm  \n",
            "  inflating: WazirData/Training/00007/01186_00000.ppm  \n",
            "  inflating: WazirData/Training/00007/01186_00001.ppm  \n",
            "  inflating: WazirData/Training/00007/01186_00002.ppm  \n",
            "  inflating: WazirData/Training/00007/01189_00000.ppm  \n",
            "  inflating: WazirData/Training/00007/01189_00001.ppm  \n",
            "  inflating: WazirData/Training/00007/01189_00002.ppm  \n",
            "  inflating: WazirData/Training/00007/01195_00000.ppm  \n",
            "  inflating: WazirData/Training/00007/01195_00001.ppm  \n",
            "  inflating: WazirData/Training/00007/01195_00002.ppm  \n",
            "  inflating: WazirData/Training/00007/01339_00000.ppm  \n",
            "  inflating: WazirData/Training/00007/01339_00001.ppm  \n",
            "  inflating: WazirData/Training/00007/01339_00002.ppm  \n",
            "  inflating: WazirData/Training/00007/01388_00000.ppm  \n",
            "  inflating: WazirData/Training/00007/01388_00001.ppm  \n",
            "  inflating: WazirData/Training/00007/01388_00002.ppm  \n",
            "  inflating: WazirData/Training/00007/01393_00000.ppm  \n",
            "  inflating: WazirData/Training/00007/01393_00001.ppm  \n",
            "  inflating: WazirData/Training/00007/01393_00002.ppm  \n",
            "  inflating: WazirData/Training/00007/01397_00000.ppm  \n",
            "  inflating: WazirData/Training/00007/01397_00001.ppm  \n",
            "  inflating: WazirData/Training/00007/01397_00002.ppm  \n",
            "  inflating: WazirData/Training/00007/01406_00000.ppm  \n",
            "  inflating: WazirData/Training/00007/01406_00001.ppm  \n",
            "  inflating: WazirData/Training/00007/01406_00002.ppm  \n",
            "  inflating: WazirData/Training/00007/01423_00000.ppm  \n",
            "  inflating: WazirData/Training/00007/01423_00001.ppm  \n",
            "  inflating: WazirData/Training/00007/01426_00000.ppm  \n",
            "  inflating: WazirData/Training/00007/01426_00001.ppm  \n",
            "  inflating: WazirData/Training/00007/01426_00002.ppm  \n",
            "  inflating: WazirData/Training/00007/01433_00000.ppm  \n",
            "  inflating: WazirData/Training/00007/01433_00001.ppm  \n",
            "  inflating: WazirData/Training/00007/01433_00002.ppm  \n",
            "  inflating: WazirData/Training/00007/01485_00000.ppm  \n",
            "  inflating: WazirData/Training/00007/01485_00001.ppm  \n",
            "  inflating: WazirData/Training/00007/01485_00002.ppm  \n",
            "  inflating: WazirData/Training/00007/01531_00000.ppm  \n",
            "  inflating: WazirData/Training/00007/01531_00001.ppm  \n",
            "  inflating: WazirData/Training/00007/01531_00002.ppm  \n",
            "  inflating: WazirData/Training/00007/01537_00000.ppm  \n",
            "  inflating: WazirData/Training/00007/01537_00001.ppm  \n",
            "  inflating: WazirData/Training/00007/01537_00002.ppm  \n",
            "  inflating: WazirData/Training/00007/01598_00000.ppm  \n",
            "  inflating: WazirData/Training/00007/01598_00001.ppm  \n",
            "  inflating: WazirData/Training/00007/01598_00002.ppm  \n",
            "  inflating: WazirData/Training/00007/01605_00000.ppm  \n",
            "  inflating: WazirData/Training/00007/01605_00001.ppm  \n",
            "  inflating: WazirData/Training/00007/01605_00002.ppm  \n",
            "  inflating: WazirData/Training/00007/01653_00000.ppm  \n",
            "  inflating: WazirData/Training/00007/01653_00001.ppm  \n",
            "  inflating: WazirData/Training/00007/01653_00002.ppm  \n",
            "  inflating: WazirData/Training/00007/01700_00000.ppm  \n",
            "  inflating: WazirData/Training/00007/01700_00001.ppm  \n",
            "  inflating: WazirData/Training/00007/01782_00000.ppm  \n",
            "  inflating: WazirData/Training/00007/01782_00001.ppm  \n",
            "  inflating: WazirData/Training/00007/01782_00002.ppm  \n",
            "  inflating: WazirData/Training/00007/01794_00000.ppm  \n",
            "  inflating: WazirData/Training/00007/01794_00001.ppm  \n",
            "  inflating: WazirData/Training/00007/01794_00002.ppm  \n",
            "  inflating: WazirData/Training/00007/01801_00000.ppm  \n",
            "  inflating: WazirData/Training/00007/01801_00001.ppm  \n",
            "  inflating: WazirData/Training/00007/01801_00002.ppm  \n",
            "  inflating: WazirData/Training/00007/01880_00000.ppm  \n",
            "  inflating: WazirData/Training/00007/01880_00001.ppm  \n",
            "  inflating: WazirData/Training/00007/01880_00002.ppm  \n",
            "  inflating: WazirData/Training/00007/01888_00000.ppm  \n",
            "  inflating: WazirData/Training/00007/01888_00001.ppm  \n",
            "  inflating: WazirData/Training/00007/01888_00002.ppm  \n",
            "  inflating: WazirData/Training/00007/GT-00007.csv  \n",
            "   creating: WazirData/Training/00008/\n",
            "  inflating: WazirData/Training/00008/00046_00000.ppm  \n",
            "  inflating: WazirData/Training/00008/00046_00001.ppm  \n",
            "  inflating: WazirData/Training/00008/00046_00002.ppm  \n",
            "  inflating: WazirData/Training/00008/01016_00000.ppm  \n",
            "  inflating: WazirData/Training/00008/01016_00001.ppm  \n",
            "  inflating: WazirData/Training/00008/01016_00002.ppm  \n",
            "  inflating: WazirData/Training/00008/01020_00000.ppm  \n",
            "  inflating: WazirData/Training/00008/01020_00001.ppm  \n",
            "  inflating: WazirData/Training/00008/01020_00002.ppm  \n",
            "  inflating: WazirData/Training/00008/01520_00000.ppm  \n",
            "  inflating: WazirData/Training/00008/01520_00001.ppm  \n",
            "  inflating: WazirData/Training/00008/01520_00002.ppm  \n",
            "  inflating: WazirData/Training/00008/01521_00000.ppm  \n",
            "  inflating: WazirData/Training/00008/01521_00001.ppm  \n",
            "  inflating: WazirData/Training/00008/01521_00002.ppm  \n",
            "  inflating: WazirData/Training/00008/01530_00000.ppm  \n",
            "  inflating: WazirData/Training/00008/01530_00001.ppm  \n",
            "  inflating: WazirData/Training/00008/01530_00002.ppm  \n",
            "  inflating: WazirData/Training/00008/01578_00000.ppm  \n",
            "  inflating: WazirData/Training/00008/01578_00001.ppm  \n",
            "  inflating: WazirData/Training/00008/01578_00002.ppm  \n",
            "  inflating: WazirData/Training/00008/01663_00000.ppm  \n",
            "  inflating: WazirData/Training/00008/01663_00001.ppm  \n",
            "  inflating: WazirData/Training/00008/01663_00002.ppm  \n",
            "  inflating: WazirData/Training/00008/01873_00000.ppm  \n",
            "  inflating: WazirData/Training/00008/01873_00001.ppm  \n",
            "  inflating: WazirData/Training/00008/01873_00002.ppm  \n",
            "  inflating: WazirData/Training/00008/GT-00008.csv  \n",
            "   creating: WazirData/Training/00009/\n",
            "  inflating: WazirData/Training/00009/00141_00000.ppm  \n",
            "  inflating: WazirData/Training/00009/00141_00001.ppm  \n",
            "  inflating: WazirData/Training/00009/00141_00002.ppm  \n",
            "  inflating: WazirData/Training/00009/00223_00000.ppm  \n",
            "  inflating: WazirData/Training/00009/00223_00001.ppm  \n",
            "  inflating: WazirData/Training/00009/00223_00002.ppm  \n",
            "  inflating: WazirData/Training/00009/00224_00000.ppm  \n",
            "  inflating: WazirData/Training/00009/00224_00001.ppm  \n",
            "  inflating: WazirData/Training/00009/00224_00002.ppm  \n",
            "  inflating: WazirData/Training/00009/00285_00000.ppm  \n",
            "  inflating: WazirData/Training/00009/00285_00001.ppm  \n",
            "  inflating: WazirData/Training/00009/00285_00002.ppm  \n",
            "  inflating: WazirData/Training/00009/00286_00000.ppm  \n",
            "  inflating: WazirData/Training/00009/00286_00001.ppm  \n",
            "  inflating: WazirData/Training/00009/00286_00002.ppm  \n",
            "  inflating: WazirData/Training/00009/00410_00000.ppm  \n",
            "  inflating: WazirData/Training/00009/00410_00001.ppm  \n",
            "  inflating: WazirData/Training/00009/00410_00002.ppm  \n",
            "  inflating: WazirData/Training/00009/GT-00009.csv  \n",
            "   creating: WazirData/Training/00010/\n",
            "  inflating: WazirData/Training/00010/00240_00000.ppm  \n",
            "  inflating: WazirData/Training/00010/00240_00001.ppm  \n",
            "  inflating: WazirData/Training/00010/00240_00002.ppm  \n",
            "  inflating: WazirData/Training/00010/00249_00000.ppm  \n",
            "  inflating: WazirData/Training/00010/00249_00001.ppm  \n",
            "  inflating: WazirData/Training/00010/00249_00002.ppm  \n",
            "  inflating: WazirData/Training/00010/00254_00000.ppm  \n",
            "  inflating: WazirData/Training/00010/00254_00001.ppm  \n",
            "  inflating: WazirData/Training/00010/00254_00002.ppm  \n",
            "  inflating: WazirData/Training/00010/00262_00000.ppm  \n",
            "  inflating: WazirData/Training/00010/00262_00001.ppm  \n",
            "  inflating: WazirData/Training/00010/00262_00002.ppm  \n",
            "  inflating: WazirData/Training/00010/00263_00000.ppm  \n",
            "  inflating: WazirData/Training/00010/00263_00001.ppm  \n",
            "  inflating: WazirData/Training/00010/00263_00002.ppm  \n",
            "  inflating: WazirData/Training/00010/00289_00000.ppm  \n",
            "  inflating: WazirData/Training/00010/00289_00001.ppm  \n",
            "  inflating: WazirData/Training/00010/00289_00002.ppm  \n",
            "  inflating: WazirData/Training/00010/01903_00000.ppm  \n",
            "  inflating: WazirData/Training/00010/01903_00001.ppm  \n",
            "  inflating: WazirData/Training/00010/01903_00002.ppm  \n",
            "  inflating: WazirData/Training/00010/GT-00010.csv  \n",
            "   creating: WazirData/Training/00011/\n",
            "  inflating: WazirData/Training/00011/00271_00000.ppm  \n",
            "  inflating: WazirData/Training/00011/00271_00001.ppm  \n",
            "  inflating: WazirData/Training/00011/00271_00002.ppm  \n",
            "  inflating: WazirData/Training/00011/00271_00003.ppm  \n",
            "  inflating: WazirData/Training/00011/01507_00000.ppm  \n",
            "  inflating: WazirData/Training/00011/01507_00001.ppm  \n",
            "  inflating: WazirData/Training/00011/01507_00002.ppm  \n",
            "  inflating: WazirData/Training/00011/GT-00011.csv  \n",
            "   creating: WazirData/Training/00012/\n",
            "  inflating: WazirData/Training/00012/01473_00000.ppm  \n",
            "  inflating: WazirData/Training/00012/01473_00001.ppm  \n",
            "  inflating: WazirData/Training/00012/01473_00002.ppm  \n",
            "  inflating: WazirData/Training/00012/01564_00000.ppm  \n",
            "  inflating: WazirData/Training/00012/01564_00001.ppm  \n",
            "  inflating: WazirData/Training/00012/01564_00002.ppm  \n",
            "  inflating: WazirData/Training/00012/01565_00000.ppm  \n",
            "  inflating: WazirData/Training/00012/01565_00001.ppm  \n",
            "  inflating: WazirData/Training/00012/01565_00002.ppm  \n",
            "  inflating: WazirData/Training/00012/01609_00000.ppm  \n",
            "  inflating: WazirData/Training/00012/01609_00001.ppm  \n",
            "  inflating: WazirData/Training/00012/01609_00002.ppm  \n",
            "  inflating: WazirData/Training/00012/01652_00000.ppm  \n",
            "  inflating: WazirData/Training/00012/01652_00001.ppm  \n",
            "  inflating: WazirData/Training/00012/01652_00002.ppm  \n",
            "  inflating: WazirData/Training/00012/01734_00000.ppm  \n",
            "  inflating: WazirData/Training/00012/01734_00001.ppm  \n",
            "  inflating: WazirData/Training/00012/01734_00002.ppm  \n",
            "  inflating: WazirData/Training/00012/GT-00012.csv  \n",
            "   creating: WazirData/Training/00013/\n",
            "  inflating: WazirData/Training/00013/00138_00000.ppm  \n",
            "  inflating: WazirData/Training/00013/00138_00001.ppm  \n",
            "  inflating: WazirData/Training/00013/00138_00002.ppm  \n",
            "  inflating: WazirData/Training/00013/00178_00000.ppm  \n",
            "  inflating: WazirData/Training/00013/00178_00001.ppm  \n",
            "  inflating: WazirData/Training/00013/00178_00002.ppm  \n",
            "  inflating: WazirData/Training/00013/00184_00000.ppm  \n",
            "  inflating: WazirData/Training/00013/00184_00001.ppm  \n",
            "  inflating: WazirData/Training/00013/00184_00002.ppm  \n",
            "  inflating: WazirData/Training/00013/00196_00000.ppm  \n",
            "  inflating: WazirData/Training/00013/00196_00001.ppm  \n",
            "  inflating: WazirData/Training/00013/00196_00002.ppm  \n",
            "  inflating: WazirData/Training/00013/00197_00000.ppm  \n",
            "  inflating: WazirData/Training/00013/00197_00001.ppm  \n",
            "  inflating: WazirData/Training/00013/00197_00002.ppm  \n",
            "  inflating: WazirData/Training/00013/00202_00000.ppm  \n",
            "  inflating: WazirData/Training/00013/00202_00001.ppm  \n",
            "  inflating: WazirData/Training/00013/00202_00002.ppm  \n",
            "  inflating: WazirData/Training/00013/00235_00000.ppm  \n",
            "  inflating: WazirData/Training/00013/00235_00001.ppm  \n",
            "  inflating: WazirData/Training/00013/00235_00002.ppm  \n",
            "  inflating: WazirData/Training/00013/00248_00000.ppm  \n",
            "  inflating: WazirData/Training/00013/00248_00001.ppm  \n",
            "  inflating: WazirData/Training/00013/00248_00002.ppm  \n",
            "  inflating: WazirData/Training/00013/00257_00000.ppm  \n",
            "  inflating: WazirData/Training/00013/00257_00001.ppm  \n",
            "  inflating: WazirData/Training/00013/00257_00002.ppm  \n",
            "  inflating: WazirData/Training/00013/00307_00000.ppm  \n",
            "  inflating: WazirData/Training/00013/00307_00001.ppm  \n",
            "  inflating: WazirData/Training/00013/00307_00002.ppm  \n",
            "  inflating: WazirData/Training/00013/00433_00000.ppm  \n",
            "  inflating: WazirData/Training/00013/00433_00001.ppm  \n",
            "  inflating: WazirData/Training/00013/00433_00002.ppm  \n",
            "  inflating: WazirData/Training/00013/00572_00000.ppm  \n",
            "  inflating: WazirData/Training/00013/00572_00001.ppm  \n",
            "  inflating: WazirData/Training/00013/00572_00002.ppm  \n",
            "  inflating: WazirData/Training/00013/00866_00000.ppm  \n",
            "  inflating: WazirData/Training/00013/00866_00001.ppm  \n",
            "  inflating: WazirData/Training/00013/00866_00002.ppm  \n",
            "  inflating: WazirData/Training/00013/00869_00000.ppm  \n",
            "  inflating: WazirData/Training/00013/00869_00001.ppm  \n",
            "  inflating: WazirData/Training/00013/00869_00002.ppm  \n",
            "  inflating: WazirData/Training/00013/00880_00000.ppm  \n",
            "  inflating: WazirData/Training/00013/00880_00001.ppm  \n",
            "  inflating: WazirData/Training/00013/00880_00002.ppm  \n",
            "  inflating: WazirData/Training/00013/00884_00000.ppm  \n",
            "  inflating: WazirData/Training/00013/00884_00001.ppm  \n",
            "  inflating: WazirData/Training/00013/00884_00002.ppm  \n",
            "  inflating: WazirData/Training/00013/00919_00000.ppm  \n",
            "  inflating: WazirData/Training/00013/00919_00001.ppm  \n",
            "  inflating: WazirData/Training/00013/00919_00002.ppm  \n",
            "  inflating: WazirData/Training/00013/00961_00000.ppm  \n",
            "  inflating: WazirData/Training/00013/00961_00001.ppm  \n",
            "  inflating: WazirData/Training/00013/00961_00002.ppm  \n",
            "  inflating: WazirData/Training/00013/01447_00000.ppm  \n",
            "  inflating: WazirData/Training/00013/01447_00001.ppm  \n",
            "  inflating: WazirData/Training/00013/01447_00002.ppm  \n",
            "  inflating: WazirData/Training/00013/01450_00000.ppm  \n",
            "  inflating: WazirData/Training/00013/01450_00001.ppm  \n",
            "  inflating: WazirData/Training/00013/01450_00002.ppm  \n",
            "  inflating: WazirData/Training/00013/01452_00000.ppm  \n",
            "  inflating: WazirData/Training/00013/01452_00001.ppm  \n",
            "  inflating: WazirData/Training/00013/01452_00002.ppm  \n",
            "  inflating: WazirData/Training/00013/01466_00000.ppm  \n",
            "  inflating: WazirData/Training/00013/01466_00001.ppm  \n",
            "  inflating: WazirData/Training/00013/01466_00002.ppm  \n",
            "  inflating: WazirData/Training/00013/01471_00000.ppm  \n",
            "  inflating: WazirData/Training/00013/01471_00001.ppm  \n",
            "  inflating: WazirData/Training/00013/01471_00002.ppm  \n",
            "  inflating: WazirData/Training/00013/01549_00000.ppm  \n",
            "  inflating: WazirData/Training/00013/01549_00001.ppm  \n",
            "  inflating: WazirData/Training/00013/01549_00002.ppm  \n",
            "  inflating: WazirData/Training/00013/01574_00000.ppm  \n",
            "  inflating: WazirData/Training/00013/01574_00001.ppm  \n",
            "  inflating: WazirData/Training/00013/01574_00002.ppm  \n",
            "  inflating: WazirData/Training/00013/01575_00000.ppm  \n",
            "  inflating: WazirData/Training/00013/01575_00001.ppm  \n",
            "  inflating: WazirData/Training/00013/01575_00002.ppm  \n",
            "  inflating: WazirData/Training/00013/01576_00000.ppm  \n",
            "  inflating: WazirData/Training/00013/01576_00001.ppm  \n",
            "  inflating: WazirData/Training/00013/01576_00002.ppm  \n",
            "  inflating: WazirData/Training/00013/01580_00000.ppm  \n",
            "  inflating: WazirData/Training/00013/01580_00001.ppm  \n",
            "  inflating: WazirData/Training/00013/01580_00002.ppm  \n",
            "  inflating: WazirData/Training/00013/01682_00000.ppm  \n",
            "  inflating: WazirData/Training/00013/01682_00001.ppm  \n",
            "  inflating: WazirData/Training/00013/01682_00002.ppm  \n",
            "  inflating: WazirData/Training/00013/01704_00000.ppm  \n",
            "  inflating: WazirData/Training/00013/01704_00001.ppm  \n",
            "  inflating: WazirData/Training/00013/01704_00002.ppm  \n",
            "  inflating: WazirData/Training/00013/GT-00013.csv  \n",
            "   creating: WazirData/Training/00014/\n",
            "  inflating: WazirData/Training/00014/00208_00000.ppm  \n",
            "  inflating: WazirData/Training/00014/00208_00001.ppm  \n",
            "  inflating: WazirData/Training/00014/00208_00002.ppm  \n",
            "  inflating: WazirData/Training/00014/00379_00000.ppm  \n",
            "  inflating: WazirData/Training/00014/00379_00001.ppm  \n",
            "  inflating: WazirData/Training/00014/00379_00002.ppm  \n",
            "  inflating: WazirData/Training/00014/00406_00000.ppm  \n",
            "  inflating: WazirData/Training/00014/00406_00001.ppm  \n",
            "  inflating: WazirData/Training/00014/00406_00002.ppm  \n",
            "  inflating: WazirData/Training/00014/00408_00000.ppm  \n",
            "  inflating: WazirData/Training/00014/00408_00001.ppm  \n",
            "  inflating: WazirData/Training/00014/00408_00002.ppm  \n",
            "  inflating: WazirData/Training/00014/00448_00000.ppm  \n",
            "  inflating: WazirData/Training/00014/00448_00001.ppm  \n",
            "  inflating: WazirData/Training/00014/00448_00002.ppm  \n",
            "  inflating: WazirData/Training/00014/00859_00000.ppm  \n",
            "  inflating: WazirData/Training/00014/00859_00001.ppm  \n",
            "  inflating: WazirData/Training/00014/00859_00002.ppm  \n",
            "  inflating: WazirData/Training/00014/00899_00000.ppm  \n",
            "  inflating: WazirData/Training/00014/00899_00001.ppm  \n",
            "  inflating: WazirData/Training/00014/00899_00002.ppm  \n",
            "  inflating: WazirData/Training/00014/00911_00000.ppm  \n",
            "  inflating: WazirData/Training/00014/00911_00001.ppm  \n",
            "  inflating: WazirData/Training/00014/00911_00002.ppm  \n",
            "  inflating: WazirData/Training/00014/01135_00000.ppm  \n",
            "  inflating: WazirData/Training/00014/01135_00001.ppm  \n",
            "  inflating: WazirData/Training/00014/01135_00002.ppm  \n",
            "  inflating: WazirData/Training/00014/01490_00000.ppm  \n",
            "  inflating: WazirData/Training/00014/01490_00001.ppm  \n",
            "  inflating: WazirData/Training/00014/01544_00000.ppm  \n",
            "  inflating: WazirData/Training/00014/01544_00001.ppm  \n",
            "  inflating: WazirData/Training/00014/01544_00002.ppm  \n",
            "  inflating: WazirData/Training/00014/01558_00000.ppm  \n",
            "  inflating: WazirData/Training/00014/01558_00001.ppm  \n",
            "  inflating: WazirData/Training/00014/01558_00002.ppm  \n",
            "  inflating: WazirData/Training/00014/01780_00000.ppm  \n",
            "  inflating: WazirData/Training/00014/01780_00001.ppm  \n",
            "  inflating: WazirData/Training/00014/01780_00002.ppm  \n",
            "  inflating: WazirData/Training/00014/01925_00000.ppm  \n",
            "  inflating: WazirData/Training/00014/01925_00001.ppm  \n",
            "  inflating: WazirData/Training/00014/01926_00000.ppm  \n",
            "  inflating: WazirData/Training/00014/01926_00001.ppm  \n",
            "  inflating: WazirData/Training/00014/01926_00002.ppm  \n",
            "  inflating: WazirData/Training/00014/GT-00014.csv  \n",
            "   creating: WazirData/Training/00015/\n",
            "  inflating: WazirData/Training/00015/00331_00000.ppm  \n",
            "  inflating: WazirData/Training/00015/00331_00001.ppm  \n",
            "  inflating: WazirData/Training/00015/00331_00002.ppm  \n",
            "  inflating: WazirData/Training/00015/00675_00000.ppm  \n",
            "  inflating: WazirData/Training/00015/00675_00001.ppm  \n",
            "  inflating: WazirData/Training/00015/00675_00002.ppm  \n",
            "  inflating: WazirData/Training/00015/00709_00000.ppm  \n",
            "  inflating: WazirData/Training/00015/00709_00001.ppm  \n",
            "  inflating: WazirData/Training/00015/00709_00002.ppm  \n",
            "  inflating: WazirData/Training/00015/GT-00015.csv  \n"
          ],
          "name": "stdout"
        }
      ]
    },
    {
      "cell_type": "code",
      "metadata": {
        "id": "0rCdhFTAq_qa",
        "outputId": "f6c83d1d-0976-4e63-a8f8-499e9e9015c6",
        "colab": {
          "base_uri": "https://localhost:8080/"
        }
      },
      "source": [
        "!ls"
      ],
      "execution_count": 5,
      "outputs": [
        {
          "output_type": "stream",
          "text": [
            "WazirData  WazirData.zip  WAZIR_XCEPTION_PRETRAINED_CLASSIFICATION.ipynb\n"
          ],
          "name": "stdout"
        }
      ]
    },
    {
      "cell_type": "code",
      "metadata": {
        "id": "RGXgZrNs0iDG"
      },
      "source": [
        "import glob\n",
        "from skimage.transform import resize\n",
        "import numpy as np \n",
        "import matplotlib\n",
        "import matplotlib.pyplot as plt\n",
        "import skimage.transform\n",
        "import tensorflow as tf\n",
        "import os\n",
        "import cv2"
      ],
      "execution_count": 6,
      "outputs": []
    },
    {
      "cell_type": "code",
      "metadata": {
        "id": "cwdlK6lSjEO_"
      },
      "source": [
        "def read_dataset(Directory):\n",
        "  labels = []\n",
        "  images = []\n",
        " \n",
        "  directories = [direc for direc in os.listdir(Directory) \n",
        "                   if os.path.isdir(os.path.join(Directory, direc))]\n",
        "\n",
        "  for direc in directories:\n",
        "        label = os.path.join(Directory, direc)\n",
        "        img_names = [os.path.join(label, img) \n",
        "                      for img in os.listdir(label) if img.endswith(\".ppm\")]\n",
        "       \n",
        "        for img in img_names:\n",
        "          imag = cv2.imread(img)\n",
        "          imag = skimage.transform.resize(imag, (75,75), mode='constant')\n",
        "          images.append(imag)\n",
        "          labels.append(int(direc))\n",
        "\n",
        "  return images, labels"
      ],
      "execution_count": 7,
      "outputs": []
    },
    {
      "cell_type": "code",
      "metadata": {
        "id": "iV8Fu5cB0YHM"
      },
      "source": [
        "images, labels = read_dataset('WazirData/Training/')\n",
        "images_test, labels_test = read_dataset('WazirData/Testing/')"
      ],
      "execution_count": 8,
      "outputs": []
    },
    {
      "cell_type": "code",
      "metadata": {
        "id": "ux1YR1tP0wFv",
        "colab": {
          "base_uri": "https://localhost:8080/"
        },
        "outputId": "24f2c18d-874b-4342-e7bd-df5d96139a0f"
      },
      "source": [
        "np_labels = np.array(labels).astype(np.float32)\n",
        "np_images = np.array(images).astype(np.float32)\n",
        "print(\"labels: \", np_labels.shape, \"\\nimages: \", np_images.shape)"
      ],
      "execution_count": 9,
      "outputs": [
        {
          "output_type": "stream",
          "text": [
            "labels:  (587,) \n",
            "images:  (587, 75, 75, 3)\n"
          ],
          "name": "stdout"
        }
      ]
    },
    {
      "cell_type": "code",
      "metadata": {
        "id": "Pjhp-k1W53aY",
        "colab": {
          "base_uri": "https://localhost:8080/"
        },
        "outputId": "84b9e595-e991-45da-f6c0-59d4a981f182"
      },
      "source": [
        "np_test_labels = np.array(labels_test).astype(np.float32)\n",
        "np_test_images = np.array(images_test).astype(np.float32)\n",
        "print(\"images: \", np_test_images.shape, \"\\nlabels: \", np_test_labels.shape)"
      ],
      "execution_count": 10,
      "outputs": [
        {
          "output_type": "stream",
          "text": [
            "images:  (153, 75, 75, 3) \n",
            "labels:  (153,)\n"
          ],
          "name": "stdout"
        }
      ]
    },
    {
      "cell_type": "code",
      "metadata": {
        "id": "i3OQHgIsnSxO",
        "colab": {
          "base_uri": "https://localhost:8080/"
        },
        "outputId": "3b609be5-c03c-427e-9c08-97f1b0eb5226"
      },
      "source": [
        "IMG_SHAPE = (75, 75, 3)\n",
        "base_model = tf.keras.applications.xception.Xception(input_shape=IMG_SHAPE,include_top=False,weights='imagenet')\n",
        "#base_model = tf.keras.applications.inception_resnet_v2.InceptionResNetV2(input_shape=IMG_SHAPE,include_top=False,weights='imagenet')"
      ],
      "execution_count": 11,
      "outputs": [
        {
          "output_type": "stream",
          "text": [
            "Downloading data from https://storage.googleapis.com/tensorflow/keras-applications/xception/xception_weights_tf_dim_ordering_tf_kernels_notop.h5\n",
            "83689472/83683744 [==============================] - 1s 0us/step\n"
          ],
          "name": "stdout"
        }
      ]
    },
    {
      "cell_type": "code",
      "metadata": {
        "id": "4qt1SQ5Qyhxd"
      },
      "source": [
        "feature_batch= base_model(np_images)"
      ],
      "execution_count": 12,
      "outputs": []
    },
    {
      "cell_type": "code",
      "metadata": {
        "id": "KZbjmOnmzA3v"
      },
      "source": [
        "base_model.trainable = False"
      ],
      "execution_count": 13,
      "outputs": []
    },
    {
      "cell_type": "code",
      "metadata": {
        "id": "5-NzlXoszN3g",
        "colab": {
          "base_uri": "https://localhost:8080/"
        },
        "outputId": "49906c57-878e-40cb-c804-487d07a2041f"
      },
      "source": [
        "global_average_layer = tf.keras.layers.GlobalAveragePooling2D()\n",
        "feature_batch_average = global_average_layer(feature_batch)\n",
        "print(feature_batch_average.shape)"
      ],
      "execution_count": 14,
      "outputs": [
        {
          "output_type": "stream",
          "text": [
            "(587, 2048)\n"
          ],
          "name": "stdout"
        }
      ]
    },
    {
      "cell_type": "code",
      "metadata": {
        "id": "zC85nIaJzZ1s"
      },
      "source": [
        "prediction_layer = tf.keras.layers.Dense(62,activation='linear')\n",
        "dropp =tf.keras.layers.Dropout(0.4)\n",
        "dropp2 =tf.keras.layers.Dropout(0.5)\n",
        "prediction_layer2 = tf.keras.layers.Dense(1536,activation='relu')\n",
        "#prediction_batch = prediction_layer(feature_batch_average)\n",
        "#print(prediction_batch.shape)"
      ],
      "execution_count": 15,
      "outputs": []
    },
    {
      "cell_type": "code",
      "metadata": {
        "id": "1ldXmjgDzgrT"
      },
      "source": [
        "model = tf.keras.Sequential([\n",
        "  base_model,\n",
        "  dropp,\n",
        "  global_average_layer,\n",
        "  dropp2,\n",
        "  prediction_layer2,\n",
        "  prediction_layer\n",
        "])"
      ],
      "execution_count": 16,
      "outputs": []
    },
    {
      "cell_type": "code",
      "metadata": {
        "id": "fvhzNJ9ZnQD4",
        "colab": {
          "base_uri": "https://localhost:8080/"
        },
        "outputId": "957d2981-60e5-448e-96a1-c9edd3866608"
      },
      "source": [
        "model.summary()"
      ],
      "execution_count": 17,
      "outputs": [
        {
          "output_type": "stream",
          "text": [
            "Model: \"sequential\"\n",
            "_________________________________________________________________\n",
            "Layer (type)                 Output Shape              Param #   \n",
            "=================================================================\n",
            "xception (Functional)        (None, 3, 3, 2048)        20861480  \n",
            "_________________________________________________________________\n",
            "dropout (Dropout)            (None, 3, 3, 2048)        0         \n",
            "_________________________________________________________________\n",
            "global_average_pooling2d (Gl (None, 2048)              0         \n",
            "_________________________________________________________________\n",
            "dropout_1 (Dropout)          (None, 2048)              0         \n",
            "_________________________________________________________________\n",
            "dense_1 (Dense)              (None, 1536)              3147264   \n",
            "_________________________________________________________________\n",
            "dense (Dense)                (None, 62)                95294     \n",
            "=================================================================\n",
            "Total params: 24,104,038\n",
            "Trainable params: 3,242,558\n",
            "Non-trainable params: 20,861,480\n",
            "_________________________________________________________________\n"
          ],
          "name": "stdout"
        }
      ]
    },
    {
      "cell_type": "code",
      "metadata": {
        "id": "fJVro8e8ea_y"
      },
      "source": [
        "from sklearn.model_selection import train_test_split"
      ],
      "execution_count": 18,
      "outputs": []
    },
    {
      "cell_type": "code",
      "metadata": {
        "id": "TdkpW2iWeuX3"
      },
      "source": [
        "X_train, X_valid, y_train, y_valid = train_test_split(np_images, np_labels, test_size=0.05, random_state=42)"
      ],
      "execution_count": 33,
      "outputs": []
    },
    {
      "cell_type": "code",
      "metadata": {
        "id": "nAL2vidrzm3b"
      },
      "source": [
        "model.compile(optimizer='adam',\n",
        "              loss=tf.keras.losses.SparseCategoricalCrossentropy(from_logits=True),\n",
        "              metrics=['accuracy'])"
      ],
      "execution_count": 34,
      "outputs": []
    },
    {
      "cell_type": "code",
      "metadata": {
        "id": "hgMeBXZ232Bd",
        "colab": {
          "base_uri": "https://localhost:8080/"
        },
        "outputId": "476ada19-ad5a-4d3e-abb8-b4b33a6f35ad"
      },
      "source": [
        "history = model.fit(X_train,y_train,epochs=10,validation_data=(X_valid,y_valid))"
      ],
      "execution_count": 35,
      "outputs": [
        {
          "output_type": "stream",
          "text": [
            "Epoch 1/10\n",
            "18/18 [==============================] - 4s 83ms/step - loss: 0.1870 - accuracy: 0.9455 - val_loss: 4.0951 - val_accuracy: 0.8333\n",
            "Epoch 2/10\n",
            "18/18 [==============================] - 1s 38ms/step - loss: 0.1842 - accuracy: 0.9612 - val_loss: 1.1548 - val_accuracy: 0.8000\n",
            "Epoch 3/10\n",
            "18/18 [==============================] - 1s 38ms/step - loss: 0.0340 - accuracy: 0.9866 - val_loss: 0.6863 - val_accuracy: 0.9000\n",
            "Epoch 4/10\n",
            "18/18 [==============================] - 1s 38ms/step - loss: 0.0798 - accuracy: 0.9843 - val_loss: 8.5549 - val_accuracy: 0.7333\n",
            "Epoch 5/10\n",
            "18/18 [==============================] - 1s 37ms/step - loss: 0.3335 - accuracy: 0.9507 - val_loss: 5.8495 - val_accuracy: 0.6000\n",
            "Epoch 6/10\n",
            "18/18 [==============================] - 1s 38ms/step - loss: 0.3195 - accuracy: 0.9523 - val_loss: 2.3999 - val_accuracy: 0.8333\n",
            "Epoch 7/10\n",
            "18/18 [==============================] - 1s 38ms/step - loss: 0.1614 - accuracy: 0.9642 - val_loss: 4.1826 - val_accuracy: 0.8000\n",
            "Epoch 8/10\n",
            "18/18 [==============================] - 1s 38ms/step - loss: 0.0888 - accuracy: 0.9826 - val_loss: 6.3998 - val_accuracy: 0.7333\n",
            "Epoch 9/10\n",
            "18/18 [==============================] - 1s 38ms/step - loss: 0.0535 - accuracy: 0.9886 - val_loss: 3.5370 - val_accuracy: 0.8333\n",
            "Epoch 10/10\n",
            "18/18 [==============================] - 1s 38ms/step - loss: 0.0852 - accuracy: 0.9778 - val_loss: 1.9120 - val_accuracy: 0.9333\n"
          ],
          "name": "stdout"
        }
      ]
    },
    {
      "cell_type": "code",
      "metadata": {
        "id": "0WK7y8l132FY",
        "colab": {
          "base_uri": "https://localhost:8080/"
        },
        "outputId": "b41365bd-d473-4657-8cb3-4d3f5d64021d"
      },
      "source": [
        "test_loss, test_acc = model.evaluate(np_test_images,  np_test_labels, verbose=2)"
      ],
      "execution_count": 36,
      "outputs": [
        {
          "output_type": "stream",
          "text": [
            "5/5 - 0s - loss: 0.9061 - accuracy: 0.9216\n"
          ],
          "name": "stdout"
        }
      ]
    },
    {
      "cell_type": "code",
      "metadata": {
        "id": "Ea8H8NfvCbZj",
        "colab": {
          "base_uri": "https://localhost:8080/"
        },
        "outputId": "d3406e96-45d0-4022-932f-53e75b418541"
      },
      "source": [
        "base_model.trainable = True\n",
        "print(\"original layers in the base model before fine tuning: \", len(base_model.layers))\n",
        "fine_tune = 100\n",
        "for layer in base_model.layers[:fine_tune]:\n",
        "  layer.trainable =  False"
      ],
      "execution_count": 37,
      "outputs": [
        {
          "output_type": "stream",
          "text": [
            "original layers in the base model before fine tuning:  132\n"
          ],
          "name": "stdout"
        }
      ]
    },
    {
      "cell_type": "code",
      "metadata": {
        "id": "GBZ3nIBPDR9Y",
        "colab": {
          "base_uri": "https://localhost:8080/"
        },
        "outputId": "9c63d65e-61ee-4408-dbd5-e2d5ddc9c16c"
      },
      "source": [
        "print(\"trainable variables after fine tuning: \",len(model.trainable_variables))"
      ],
      "execution_count": 38,
      "outputs": [
        {
          "output_type": "stream",
          "text": [
            "trainable variables after fine tuning:  43\n"
          ],
          "name": "stdout"
        }
      ]
    },
    {
      "cell_type": "code",
      "metadata": {
        "id": "XVmoGueIDNgE",
        "colab": {
          "base_uri": "https://localhost:8080/"
        },
        "outputId": "fce39b81-cdfc-441f-be33-16c0406fee93"
      },
      "source": [
        "model.summary()"
      ],
      "execution_count": 39,
      "outputs": [
        {
          "output_type": "stream",
          "text": [
            "Model: \"sequential\"\n",
            "_________________________________________________________________\n",
            "Layer (type)                 Output Shape              Param #   \n",
            "=================================================================\n",
            "xception (Functional)        (None, 3, 3, 2048)        20861480  \n",
            "_________________________________________________________________\n",
            "dropout (Dropout)            (None, 3, 3, 2048)        0         \n",
            "_________________________________________________________________\n",
            "global_average_pooling2d (Gl (None, 2048)              0         \n",
            "_________________________________________________________________\n",
            "dropout_1 (Dropout)          (None, 2048)              0         \n",
            "_________________________________________________________________\n",
            "dense_1 (Dense)              (None, 1536)              3147264   \n",
            "_________________________________________________________________\n",
            "dense (Dense)                (None, 62)                95294     \n",
            "=================================================================\n",
            "Total params: 24,104,038\n",
            "Trainable params: 12,720,902\n",
            "Non-trainable params: 11,383,136\n",
            "_________________________________________________________________\n"
          ],
          "name": "stdout"
        }
      ]
    },
    {
      "cell_type": "code",
      "metadata": {
        "id": "S1s3Vn2oC3bc"
      },
      "source": [
        "model.compile(optimizer='adam',\n",
        "              loss=tf.keras.losses.SparseCategoricalCrossentropy(from_logits=True),\n",
        "              metrics=['accuracy'])"
      ],
      "execution_count": 40,
      "outputs": []
    },
    {
      "cell_type": "code",
      "metadata": {
        "id": "cRq7OiKJDTUt",
        "colab": {
          "base_uri": "https://localhost:8080/"
        },
        "outputId": "14e46121-e136-4ebd-e1bb-d3b181f85da9"
      },
      "source": [
        "history = model.fit(X_train,y_train,epochs=20,validation_data=(X_valid,y_valid),initial_epoch=history.epoch[-1])"
      ],
      "execution_count": 41,
      "outputs": [
        {
          "output_type": "stream",
          "text": [
            "Epoch 10/20\n",
            "18/18 [==============================] - 4s 82ms/step - loss: 0.0786 - accuracy: 0.9844 - val_loss: 12.6463 - val_accuracy: 0.6667\n",
            "Epoch 11/20\n",
            "18/18 [==============================] - 1s 38ms/step - loss: 0.1440 - accuracy: 0.9669 - val_loss: 7.9871 - val_accuracy: 0.7667\n",
            "Epoch 12/20\n",
            "18/18 [==============================] - 1s 38ms/step - loss: 0.1009 - accuracy: 0.9778 - val_loss: 4.2692 - val_accuracy: 0.7667\n",
            "Epoch 13/20\n",
            "18/18 [==============================] - 1s 39ms/step - loss: 0.0475 - accuracy: 0.9915 - val_loss: 2.1341 - val_accuracy: 0.8000\n",
            "Epoch 14/20\n",
            "18/18 [==============================] - 1s 38ms/step - loss: 0.0875 - accuracy: 0.9765 - val_loss: 1.3540 - val_accuracy: 0.8667\n",
            "Epoch 15/20\n",
            "18/18 [==============================] - 1s 38ms/step - loss: 0.0921 - accuracy: 0.9767 - val_loss: 0.9405 - val_accuracy: 0.8333\n",
            "Epoch 16/20\n",
            "18/18 [==============================] - 1s 39ms/step - loss: 0.0547 - accuracy: 0.9906 - val_loss: 1.0398 - val_accuracy: 0.8667\n",
            "Epoch 17/20\n",
            "18/18 [==============================] - 1s 39ms/step - loss: 0.0685 - accuracy: 0.9870 - val_loss: 0.7634 - val_accuracy: 0.9333\n",
            "Epoch 18/20\n",
            "18/18 [==============================] - 1s 39ms/step - loss: 0.0933 - accuracy: 0.9816 - val_loss: 0.8403 - val_accuracy: 0.8667\n",
            "Epoch 19/20\n",
            "18/18 [==============================] - 1s 39ms/step - loss: 0.0775 - accuracy: 0.9749 - val_loss: 2.5282 - val_accuracy: 0.8000\n",
            "Epoch 20/20\n",
            "18/18 [==============================] - 1s 39ms/step - loss: 0.2781 - accuracy: 0.9646 - val_loss: 0.4437 - val_accuracy: 0.9333\n"
          ],
          "name": "stdout"
        }
      ]
    },
    {
      "cell_type": "code",
      "metadata": {
        "id": "Yvabu6N5Kl-q",
        "colab": {
          "base_uri": "https://localhost:8080/"
        },
        "outputId": "75c88152-c963-4039-95d4-25d6587b77a9"
      },
      "source": [
        "test_loss, test_acc = model.evaluate(np_test_images,  np_test_labels, verbose=2)"
      ],
      "execution_count": 42,
      "outputs": [
        {
          "output_type": "stream",
          "text": [
            "5/5 - 0s - loss: 0.0131 - accuracy: 0.9935\n"
          ],
          "name": "stdout"
        }
      ]
    },
    {
      "cell_type": "code",
      "metadata": {
        "id": "vsekQyM_6cT3"
      },
      "source": [
        "predict = np.argmax(model.predict(np_test_images), axis = 1)"
      ],
      "execution_count": 43,
      "outputs": []
    },
    {
      "cell_type": "code",
      "metadata": {
        "id": "rF3YtPyRAV6T"
      },
      "source": [
        "labelCon = []\n",
        "for i in range(62):\n",
        "  labelCon.append(i)"
      ],
      "execution_count": 44,
      "outputs": []
    },
    {
      "cell_type": "code",
      "metadata": {
        "id": "8PrCnyjM9Px5",
        "colab": {
          "base_uri": "https://localhost:8080/"
        },
        "outputId": "e2c9b5ef-9cb3-4178-fb32-8677307cebfe"
      },
      "source": [
        "from sklearn.metrics import classification_report, confusion_matrix\n",
        "print('Confusion Matrix')\n",
        "print(confusion_matrix(np_test_labels, predict , labelCon))"
      ],
      "execution_count": 45,
      "outputs": [
        {
          "output_type": "stream",
          "text": [
            "Confusion Matrix\n",
            "[[ 14   0   0 ...   0   0   0]\n",
            " [  0 110   0 ...   0   0   0]\n",
            " [  0   0  13 ...   0   0   0]\n",
            " ...\n",
            " [  0   0   0 ...   0   0   0]\n",
            " [  0   0   0 ...   0   0   0]\n",
            " [  0   0   0 ...   0   0   0]]\n"
          ],
          "name": "stdout"
        }
      ]
    },
    {
      "cell_type": "code",
      "metadata": {
        "id": "xyI31_kFiOvC",
        "colab": {
          "base_uri": "https://localhost:8080/"
        },
        "outputId": "8d440ec0-1ee5-4c0f-a261-dc3314e94ac0"
      },
      "source": [
        "print('Classification Report')\n",
        "print(classification_report(np_test_labels, predict , labelCon))"
      ],
      "execution_count": 46,
      "outputs": [
        {
          "output_type": "stream",
          "text": [
            "Classification Report\n",
            "              precision    recall  f1-score   support\n",
            "\n",
            "           0       1.00      0.93      0.97        15\n",
            "           1       1.00      1.00      1.00       110\n",
            "           2       1.00      1.00      1.00        13\n",
            "           3       1.00      1.00      1.00        15\n",
            "           4       0.00      0.00      0.00         0\n",
            "           5       0.00      0.00      0.00         0\n",
            "           6       0.00      0.00      0.00         0\n",
            "           7       0.00      0.00      0.00         0\n",
            "           8       0.00      0.00      0.00         0\n",
            "           9       0.00      0.00      0.00         0\n",
            "          10       0.00      0.00      0.00         0\n",
            "          11       0.00      0.00      0.00         0\n",
            "          12       0.00      0.00      0.00         0\n",
            "          13       0.00      0.00      0.00         0\n",
            "          14       0.00      0.00      0.00         0\n",
            "          15       0.00      0.00      0.00         0\n",
            "          16       0.00      0.00      0.00         0\n",
            "          17       0.00      0.00      0.00         0\n",
            "          18       0.00      0.00      0.00         0\n",
            "          19       0.00      0.00      0.00         0\n",
            "          20       0.00      0.00      0.00         0\n",
            "          21       0.00      0.00      0.00         0\n",
            "          22       0.00      0.00      0.00         0\n",
            "          23       0.00      0.00      0.00         0\n",
            "          24       0.00      0.00      0.00         0\n",
            "          25       0.00      0.00      0.00         0\n",
            "          26       0.00      0.00      0.00         0\n",
            "          27       0.00      0.00      0.00         0\n",
            "          28       0.00      0.00      0.00         0\n",
            "          29       0.00      0.00      0.00         0\n",
            "          30       0.00      0.00      0.00         0\n",
            "          31       0.00      0.00      0.00         0\n",
            "          32       0.00      0.00      0.00         0\n",
            "          33       0.00      0.00      0.00         0\n",
            "          34       0.00      0.00      0.00         0\n",
            "          35       0.00      0.00      0.00         0\n",
            "          36       0.00      0.00      0.00         0\n",
            "          37       0.00      0.00      0.00         0\n",
            "          38       0.00      0.00      0.00         0\n",
            "          39       0.00      0.00      0.00         0\n",
            "          40       0.00      0.00      0.00         0\n",
            "          41       0.00      0.00      0.00         0\n",
            "          42       0.00      0.00      0.00         0\n",
            "          43       0.00      0.00      0.00         0\n",
            "          44       0.00      0.00      0.00         0\n",
            "          45       0.00      0.00      0.00         0\n",
            "          46       0.00      0.00      0.00         0\n",
            "          47       0.00      0.00      0.00         0\n",
            "          48       0.00      0.00      0.00         0\n",
            "          49       0.00      0.00      0.00         0\n",
            "          50       0.00      0.00      0.00         0\n",
            "          51       0.00      0.00      0.00         0\n",
            "          52       0.00      0.00      0.00         0\n",
            "          53       0.00      0.00      0.00         0\n",
            "          54       0.00      0.00      0.00         0\n",
            "          55       0.00      0.00      0.00         0\n",
            "          56       0.00      0.00      0.00         0\n",
            "          57       0.00      0.00      0.00         0\n",
            "          58       0.00      0.00      0.00         0\n",
            "          59       0.00      0.00      0.00         0\n",
            "          60       0.00      0.00      0.00         0\n",
            "          61       0.00      0.00      0.00         0\n",
            "\n",
            "   micro avg       0.99      0.99      0.99       153\n",
            "   macro avg       0.06      0.06      0.06       153\n",
            "weighted avg       1.00      0.99      1.00       153\n",
            "\n"
          ],
          "name": "stdout"
        },
        {
          "output_type": "stream",
          "text": [
            "/usr/local/lib/python3.6/dist-packages/sklearn/metrics/_classification.py:1272: UndefinedMetricWarning: Precision and F-score are ill-defined and being set to 0.0 in labels with no predicted samples. Use `zero_division` parameter to control this behavior.\n",
            "  _warn_prf(average, modifier, msg_start, len(result))\n",
            "/usr/local/lib/python3.6/dist-packages/sklearn/metrics/_classification.py:1272: UndefinedMetricWarning: Recall and F-score are ill-defined and being set to 0.0 in labels with no true samples. Use `zero_division` parameter to control this behavior.\n",
            "  _warn_prf(average, modifier, msg_start, len(result))\n"
          ],
          "name": "stderr"
        }
      ]
    },
    {
      "cell_type": "code",
      "metadata": {
        "id": "8ESRg23tpAJ1"
      },
      "source": [
        ""
      ],
      "execution_count": 32,
      "outputs": []
    }
  ]
}